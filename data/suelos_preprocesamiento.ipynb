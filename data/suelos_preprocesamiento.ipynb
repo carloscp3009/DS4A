{
 "cells": [
  {
   "cell_type": "markdown",
   "id": "16bc1c76",
   "metadata": {},
   "source": [
    "# Preprocesamiento de los datos - Análisis de suelos\n"
   ]
  },
  {
   "cell_type": "markdown",
   "id": "22fce74d",
   "metadata": {},
   "source": [
    "## Importaciones"
   ]
  },
  {
   "cell_type": "code",
   "execution_count": 16,
   "id": "3c0e2384",
   "metadata": {},
   "outputs": [],
   "source": [
    "import numpy as np\n",
    "import pandas as pd"
   ]
  },
  {
   "cell_type": "markdown",
   "id": "30d6ef88",
   "metadata": {},
   "source": [
    "## Funciones"
   ]
  },
  {
   "cell_type": "code",
   "execution_count": 33,
   "id": "9493b4fa",
   "metadata": {},
   "outputs": [],
   "source": [
    "def clean_float_values(value,rares):\n",
    "    '''Limpia valores en columnas float\n",
    "    \n",
    "    Procesa valores string realizando las siguientes acciones:\n",
    "      - Reemplaza ',' por '.'\n",
    "      - Reemplaza '..' por '.'\n",
    "      - Elimina el signo '>' dejando el límite superior como valor actual\n",
    "      - Reemplaza los límites inferiores por la mitad de su valor\n",
    "      - Reemplaza valores inválidos por NaN\n",
    "    '''\n",
    "    if type(value) != str:\n",
    "        return value\n",
    "    \n",
    "    value = value.replace(',', '.')\n",
    "    value = value.replace('..', '.')\n",
    "    value = value.replace('>', '')\n",
    "    \n",
    "    if value[0] == '<':\n",
    "        value = float((value[1:]).strip()) / 2        \n",
    "    else:\n",
    "        try:\n",
    "            float(value)\n",
    "        except Exception as e:\n",
    "            if value in rares.keys():\n",
    "                rares[value] += 1\n",
    "            else:\n",
    "                rares[value] = 1\n",
    "            value = 'NaN'\n",
    "    return value"
   ]
  },
  {
   "cell_type": "code",
   "execution_count": 18,
   "id": "db18b2e1",
   "metadata": {},
   "outputs": [],
   "source": [
    "def clean_string_values(value):\n",
    "    value = value.replace(' ', '_')\n",
    "    value = value.replace('__', '_')\n",
    "    return value"
   ]
  },
  {
   "cell_type": "markdown",
   "id": "d50c0cf5",
   "metadata": {},
   "source": [
    "## Dataset: Análisis de suelos"
   ]
  },
  {
   "cell_type": "markdown",
   "id": "84c80e9e",
   "metadata": {},
   "source": [
    "### Carga de los datos"
   ]
  },
  {
   "cell_type": "code",
   "execution_count": 19,
   "id": "a59cef82",
   "metadata": {},
   "outputs": [],
   "source": [
    "df_analisis = pd.read_csv('suelos_original.csv',dtype=str)"
   ]
  },
  {
   "cell_type": "markdown",
   "id": "f742bc94",
   "metadata": {},
   "source": [
    "### Tratamiento"
   ]
  },
  {
   "cell_type": "markdown",
   "id": "890d0739",
   "metadata": {},
   "source": [
    "#### Renombrar columnas"
   ]
  },
  {
   "cell_type": "code",
   "execution_count": 20,
   "id": "e261c93b",
   "metadata": {},
   "outputs": [],
   "source": [
    "oDict = {\n",
    "    'numfila': 'id',\n",
    "    'Departamento': 'departamento',\n",
    "    'Municipio': 'municipio',\n",
    "    'Cultivo': 'cultivo',\n",
    "    'Estado': 'estado',\n",
    "    'Tiempo Establecimiento': 'tiempo_establecimiento',\n",
    "    'Topografia': 'topografia',\n",
    "    'Drenaje': 'drenaje',\n",
    "    'Riego': 'riego',\n",
    "    'Fertilizantes aplicados': 'fertilizantes',\n",
    "    'FechaAnalisis': 'fecha',\n",
    "    'pH agua:suelo 2,5:1,0': 'ph',\n",
    "    'Materia orgánica (MO) %': 'materia_organica',\n",
    "    'Fósforo (P) Bray II mg/kg': 'fosforo',\n",
    "    'Azufre (S) Fosfato monocalcico mg/kg': 'azufre',\n",
    "    'Acidez (Al+H) KCL cmol(+)/kg': 'acidez',\n",
    "    'Aluminio (Al) intercambiable cmol(+)/kg': 'aluminio',\n",
    "    'Calcio (Ca) intercambiable cmol(+)/kg': 'calcio',\n",
    "    'Magnesio (Mg) intercambiable cmol(+)/kg': 'magnesio',\n",
    "    'Potasio (K) intercambiable cmol(+)/kg': 'potasio',\n",
    "    'Sodio (Na) intercambiable cmol(+)/kg': 'sodio',\n",
    "    'capacidad de intercambio cationico (CICE) suma de bases cmol(+)/kg': 'cice',\n",
    "    'Conductividad el‚ctrica (CE) relacion 2,5:1,0 dS/m': 'ce',\n",
    "    'Hierro (Fe) disponible olsen mg/kg': 'hierro_olsen',\n",
    "    'Cobre (Cu) disponible mg/kg': 'cobre',\n",
    "    'Manganeso (Mn) disponible Olsen mg/kg': 'manganeso',\n",
    "    'Zinc (Zn) disponible Olsen mg/kg': 'zinc_olsen',\n",
    "    'Boro (B) disponible mg/kg': 'boro',\n",
    "    'Hierro (Fe) disponible doble \\xa0cido mg/kg': 'hierro_doble_acido',\n",
    "    'Cobre (Cu) disponible doble acido mg/kg': 'cobre_doble_acido',\n",
    "    'Manganeso (Mn) disponible doble acido mg/kg': 'manganeso_doble_acido',\n",
    "    'Zinc (Zn) disponible doble \\xa0cido mg/kg': 'zinc_doble_acido', \n",
    "    'Secuencial': 'secuencial'\n",
    "}\n",
    "df_analisis.rename(columns=oDict, inplace=True)"
   ]
  },
  {
   "cell_type": "markdown",
   "id": "a348601a",
   "metadata": {},
   "source": [
    "#### Eliminar columnas sin valores"
   ]
  },
  {
   "cell_type": "code",
   "execution_count": 21,
   "id": "9c8dbb4b",
   "metadata": {},
   "outputs": [],
   "source": [
    "df_analisis.drop(columns=['secuencial', 'fecha'], inplace=True)"
   ]
  },
  {
   "cell_type": "markdown",
   "id": "c77255a0",
   "metadata": {},
   "source": [
    "#### Formato de valores en columnas"
   ]
  },
  {
   "cell_type": "code",
   "execution_count": 25,
   "id": "f3c98158",
   "metadata": {},
   "outputs": [],
   "source": [
    "# Cambiar los valores string a minúsculas\n",
    "columnas = [\n",
    "    'departamento', 'municipio', 'cultivo', 'estado', 'tiempo_establecimiento', \n",
    "    'topografia', 'drenaje', 'riego', 'fertilizantes'\n",
    "]\n",
    "df_analisis[columnas] = df_analisis[columnas].applymap(str.lower)\n",
    "#for columna in columnas:\n",
    "#    df_analisis[columna] = df_analisis[columna].str.lower()"
   ]
  },
  {
   "cell_type": "markdown",
   "id": "c0e8db3f",
   "metadata": {},
   "source": [
    "#### Corrección de valores float"
   ]
  },
  {
   "cell_type": "code",
   "execution_count": 37,
   "id": "6ba07e15",
   "metadata": {},
   "outputs": [],
   "source": [
    "rares = {}\n",
    "\n",
    "# Limpieza de carácteres no numéricos y conversión de valores numéricos a float\n",
    "columnas = [\n",
    "    'ph', 'fosforo', 'azufre', 'acidez', 'aluminio', \n",
    "    'calcio', 'magnesio', 'potasio', 'sodio', 'ce', 'hierro_olsen', \n",
    "    'cobre', 'manganeso', 'zinc_olsen', 'boro', 'hierro_doble_acido',\n",
    "    'cobre_doble_acido', 'manganeso_doble_acido', 'zinc_doble_acido'\n",
    "]\n",
    "\n",
    "df_analisis[columnas] = df_analisis[columnas].applymap(clean_float_values,rares=rares)\n",
    "\n",
    "if len(rares):\n",
    "    print(\"Valores problemáticos convertidos a NaN:\\n\", rares)"
   ]
  },
  {
   "cell_type": "markdown",
   "id": "14f81290",
   "metadata": {},
   "source": [
    "#### Corrección de valores string"
   ]
  },
  {
   "cell_type": "code",
   "execution_count": 38,
   "id": "c651bb93",
   "metadata": {},
   "outputs": [],
   "source": [
    "df_analisis[\"topografia\"] = df_analisis[\"topografia\"].str.replace(\n",
    "    \"error: #n/a\", \"no indica\")\n",
    "\n",
    "oDict = {\n",
    "    'error: #n/a': \"no indica\",\n",
    "    'buen drenaje': 'bueno',\n",
    "    'regular drenaje': 'regular',\n",
    "    'mal drenaje': 'malo'\n",
    "}\n",
    "df_analisis[\"drenaje\"].replace(oDict, inplace=True)"
   ]
  },
  {
   "cell_type": "code",
   "execution_count": 43,
   "id": "9ae79798-8aee-431c-87b1-db009e323b61",
   "metadata": {},
   "outputs": [],
   "source": [
    "columnas = [\n",
    "    'estado', \n",
    "    'tiempo_establecimiento', \n",
    "    'topografia', \n",
    "    'drenaje', \n",
    "    'riego'\n",
    "]\n",
    "\n",
    "df_analisis[columnas] = df_analisis[columnas].applymap(clean_string_values)"
   ]
  },
  {
   "cell_type": "markdown",
   "id": "a7f8a37e",
   "metadata": {},
   "source": [
    "---"
   ]
  },
  {
   "cell_type": "markdown",
   "id": "49570479",
   "metadata": {},
   "source": [
    "#### Eliminación de registros\n"
   ]
  },
  {
   "cell_type": "markdown",
   "id": "bb198e12",
   "metadata": {},
   "source": [
    "Esta operación es discutible ya que esos registros pueden servir para la detección de anomalías aunque no sirvan para el modelo de predicción\n",
    "```python\n",
    "indices = df_analisis[\n",
    "    (df_analisis[\"cultivo\"] == \"no indica\") & \n",
    "    (df_analisis[\"estado\"] == \"no indica\") & \n",
    "    (df_analisis[\"tiempo_establecimiento\"] == \"no indica\")].index\n",
    "df_analisis.drop(index=indices, axis=0, inplace=True)\n",
    "```"
   ]
  },
  {
   "cell_type": "code",
   "execution_count": 44,
   "id": "230666bc",
   "metadata": {},
   "outputs": [],
   "source": [
    "# Eliminar las filas con el valor \"borrar\" en la columna municipio\n",
    "df_analisis = df_analisis[df_analisis['municipio'] != 'borrar']"
   ]
  },
  {
   "cell_type": "markdown",
   "id": "d9214b9d",
   "metadata": {},
   "source": [
    "#### Columnas categorizadas"
   ]
  },
  {
   "cell_type": "code",
   "execution_count": 45,
   "id": "da5f4ed5",
   "metadata": {},
   "outputs": [],
   "source": [
    "# Crear columnas dummy a partir de la columna topografia\n",
    "columnas = [\n",
    "    'estado', 'tiempo_establecimiento', 'topografia', 'drenaje', 'riego']\n",
    "\n",
    "for columna in columnas:\n",
    "    df_analisis = pd.get_dummies(df_analisis, columns=[columna])\n",
    "\n",
    "# Ajustar la dummificación de las columnas compuestas\n",
    "columnas = {\n",
    "    'topografia_ondulado_y_pendiente' : ['topografia_ondulado', 'topografia_pendiente'],\n",
    "    'topografia_plano_y_ondulado' : ['topografia_plano', 'topografia_ondulado'],\n",
    "    'topografia_plano_y_pendiente' : ['topografia_plano', 'topografia_pendiente'],\n",
    "    'riego_aspersión_y_goteo': ['riego_aspersión', 'riego_goteo'],\n",
    "    'riego_aspersión_y_gravedad': ['riego_aspersión', 'riego_gravedad'],\n",
    "    'riego_goteo_y_gravedad': ['riego_goteo', 'riego_gravedad'],\n",
    "}\n",
    "for key, value in columnas.items():\n",
    "    indices = df_analisis[(df_analisis[key] == 1)].index\n",
    "    df_analisis.loc[indices, value[0]] = 1\n",
    "    df_analisis.loc[indices, value[1]] = 1\n",
    "    df_analisis.drop(columns=[key], inplace=True)"
   ]
  },
  {
   "cell_type": "markdown",
   "id": "b8df01a5",
   "metadata": {},
   "source": [
    "### Exportar conjunto de datos"
   ]
  },
  {
   "cell_type": "code",
   "execution_count": 16,
   "id": "6ae27e97",
   "metadata": {},
   "outputs": [],
   "source": [
    "df_analisis.to_csv('suelos_preprocesado.csv', index=False)"
   ]
  },
  {
   "cell_type": "markdown",
   "id": "bdb599f8",
   "metadata": {},
   "source": [
    "---\n",
    "Fin del notebook"
   ]
  }
 ],
 "metadata": {
  "kernelspec": {
   "display_name": "Python 3 (ipykernel)",
   "language": "python",
   "name": "python3"
  },
  "language_info": {
   "codemirror_mode": {
    "name": "ipython",
    "version": 3
   },
   "file_extension": ".py",
   "mimetype": "text/x-python",
   "name": "python",
   "nbconvert_exporter": "python",
   "pygments_lexer": "ipython3",
   "version": "3.10.5"
  },
  "vscode": {
   "interpreter": {
    "hash": "4d190bbdecbc6c6f6743870a5150ac7f1d9df381e01a0ffd3b70e7c4c875f407"
   }
  }
 },
 "nbformat": 4,
 "nbformat_minor": 5
}
