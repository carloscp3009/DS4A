{
 "cells": [
  {
   "cell_type": "code",
   "execution_count": 1,
   "id": "b1929083-e5ff-428c-87c2-897322eaf025",
   "metadata": {},
   "outputs": [],
   "source": [
    "# general \n",
    "import numpy as np\n",
    "import pandas as pd\n",
    "import matplotlib.pyplot as plt\n",
    "\n",
    "# geography \n",
    "import geopandas\n",
    "import plotly.express as px\n",
    "from shapely.ops import unary_union\n",
    "import json\n",
    "\n",
    "# progress\n",
    "from tqdm import tqdm\n",
    "tqdm.pandas()\n",
    "from IPython.display import HTML"
   ]
  },
  {
   "cell_type": "markdown",
   "id": "159d2644-d64c-4c8a-ba80-733610c04d08",
   "metadata": {},
   "source": [
    "# Data "
   ]
  },
  {
   "cell_type": "markdown",
   "id": "c4ae8db3-bebf-4f6d-ac0c-ecb816b1ccbd",
   "metadata": {},
   "source": [
    "DANE sources:\n",
    "\n",
    "* [GeoJSON download page](https://geoportal.dane.gov.co/servicios/descarga-y-metadatos/visor-descarga-geovisores/)\n",
    "    * [Municipality level polygons](https://geoportal.dane.gov.co/descargas/CNPV2018/Geojson/GeoJsonMGN_ANM_MPIOS.rar)\n",
    "* [geographical listings and metadata](https://www.dane.gov.co/files/geoportal-provisional/)\n",
    "    * [political-administrative division](https://www.dane.gov.co/files/geoportal-provisional/Listados_DIVIPOLA.zip)\n",
    "    \n",
    "Both datasets have to be downloaded manually because of DANE's bot protection policy.\n",
    "\n",
    "This code assumes these files were uncompressed on this folder."
   ]
  },
  {
   "cell_type": "markdown",
   "id": "2b6d2ac3-5aa5-4efd-b109-aca3cc1470e2",
   "metadata": {},
   "source": [
    "## DANE divipola listing (official name and codes), 2022"
   ]
  },
  {
   "cell_type": "code",
   "execution_count": 2,
   "id": "aefebc3e-59e9-4c6e-b459-a72c5bc9707b",
   "metadata": {},
   "outputs": [
    {
     "data": {
      "text/html": [
       "<div>\n",
       "<style scoped>\n",
       "    .dataframe tbody tr th:only-of-type {\n",
       "        vertical-align: middle;\n",
       "    }\n",
       "\n",
       "    .dataframe tbody tr th {\n",
       "        vertical-align: top;\n",
       "    }\n",
       "\n",
       "    .dataframe thead th {\n",
       "        text-align: right;\n",
       "    }\n",
       "</style>\n",
       "<table border=\"1\" class=\"dataframe\">\n",
       "  <thead>\n",
       "    <tr style=\"text-align: right;\">\n",
       "      <th></th>\n",
       "      <th>departamento</th>\n",
       "      <th>municipio</th>\n",
       "    </tr>\n",
       "    <tr>\n",
       "      <th>ID</th>\n",
       "      <th></th>\n",
       "      <th></th>\n",
       "    </tr>\n",
       "  </thead>\n",
       "  <tbody>\n",
       "    <tr>\n",
       "      <th>05001</th>\n",
       "      <td>ANTIOQUIA</td>\n",
       "      <td>MEDELLÍN</td>\n",
       "    </tr>\n",
       "    <tr>\n",
       "      <th>05002</th>\n",
       "      <td>ANTIOQUIA</td>\n",
       "      <td>ABEJORRAL</td>\n",
       "    </tr>\n",
       "    <tr>\n",
       "      <th>05004</th>\n",
       "      <td>ANTIOQUIA</td>\n",
       "      <td>ABRIAQUÍ</td>\n",
       "    </tr>\n",
       "    <tr>\n",
       "      <th>05021</th>\n",
       "      <td>ANTIOQUIA</td>\n",
       "      <td>ALEJANDRÍA</td>\n",
       "    </tr>\n",
       "    <tr>\n",
       "      <th>05030</th>\n",
       "      <td>ANTIOQUIA</td>\n",
       "      <td>AMAGÁ</td>\n",
       "    </tr>\n",
       "  </tbody>\n",
       "</table>\n",
       "</div>"
      ],
      "text/plain": [
       "      departamento   municipio\n",
       "ID                            \n",
       "05001    ANTIOQUIA    MEDELLÍN\n",
       "05002    ANTIOQUIA   ABEJORRAL\n",
       "05004    ANTIOQUIA    ABRIAQUÍ\n",
       "05021    ANTIOQUIA  ALEJANDRÍA\n",
       "05030    ANTIOQUIA       AMAGÁ"
      ]
     },
     "execution_count": 2,
     "metadata": {},
     "output_type": "execute_result"
    }
   ],
   "source": [
    "xls = pd.ExcelFile(\"CODIFICACION_DIVIPOLA/Listados_DIVIPOLA.xlsx\")\n",
    "DANE = pd.read_excel(xls,\"Municipios\",skiprows=11,dtype=str,header=None)\n",
    "DANE = DANE.loc[:1120]\n",
    "DANE.drop([0,4,5],axis=1,inplace=True)\n",
    "DANE.rename(columns={1:\"departamento\",2:\"ID\",3:\"municipio\"},inplace=True)\n",
    "DANE.set_index(\"ID\",inplace=True)\n",
    "DANE.head()"
   ]
  },
  {
   "cell_type": "markdown",
   "id": "6202bae7-6975-4086-8f6d-cdd56eb144fc",
   "metadata": {},
   "source": [
    "## Official geoJSON, 2018"
   ]
  },
  {
   "cell_type": "code",
   "execution_count": 3,
   "id": "d2d5c59f-fbee-47c4-ae82-f76a8b232399",
   "metadata": {},
   "outputs": [],
   "source": [
    "geo = geopandas.read_file(\"GeoJsonMGN_ANM_MPIOS/MGN_ANM_MPIOS.geojson\")"
   ]
  },
  {
   "cell_type": "code",
   "execution_count": 4,
   "id": "49f09b1b-0fb5-409b-b241-16d8d679f141",
   "metadata": {},
   "outputs": [],
   "source": [
    "geo[\"adjacent\"] = \"\"\n",
    "# drop STATS columns\n",
    "geo = geo.drop([col for col in geo.columns if set(\"ST\") <= set(col)],axis=1)\n",
    "# drop unneded shape columns\n",
    "geo = geo.drop([\"VERSION\",\"Shape_Leng\",\"Shape_Area\"],axis=1)\n",
    "\n",
    "geo = geo.rename(columns={\n",
    "    'DPTO_CCDGO':\"ID_DEP\",\n",
    "    'MPIO_CCDGO':\"ID_MUN\",\n",
    "    'MPIO_CNMBR':\"municipio\",\n",
    "    'MPIO_CDPMP':\"ID\"\n",
    "})\n",
    "\n",
    "geo.set_index(\"ID\",inplace=True)"
   ]
  },
  {
   "cell_type": "code",
   "execution_count": 5,
   "id": "5da80119-d64e-4834-9a05-ad399033ea15",
   "metadata": {},
   "outputs": [
    {
     "data": {
      "text/html": [
       "<div>\n",
       "<style scoped>\n",
       "    .dataframe tbody tr th:only-of-type {\n",
       "        vertical-align: middle;\n",
       "    }\n",
       "\n",
       "    .dataframe tbody tr th {\n",
       "        vertical-align: top;\n",
       "    }\n",
       "\n",
       "    .dataframe thead th {\n",
       "        text-align: right;\n",
       "    }\n",
       "</style>\n",
       "<table border=\"1\" class=\"dataframe\">\n",
       "  <thead>\n",
       "    <tr style=\"text-align: right;\">\n",
       "      <th></th>\n",
       "      <th>ID_DEP</th>\n",
       "      <th>ID_MUN</th>\n",
       "      <th>municipio</th>\n",
       "      <th>AREA</th>\n",
       "      <th>LATITUD</th>\n",
       "      <th>LONGITUD</th>\n",
       "      <th>geometry</th>\n",
       "      <th>adjacent</th>\n",
       "    </tr>\n",
       "    <tr>\n",
       "      <th>ID</th>\n",
       "      <th></th>\n",
       "      <th></th>\n",
       "      <th></th>\n",
       "      <th></th>\n",
       "      <th></th>\n",
       "      <th></th>\n",
       "      <th></th>\n",
       "      <th></th>\n",
       "    </tr>\n",
       "  </thead>\n",
       "  <tbody>\n",
       "    <tr>\n",
       "      <th>18001</th>\n",
       "      <td>18</td>\n",
       "      <td>001</td>\n",
       "      <td>FLORENCIA</td>\n",
       "      <td>2.547638e+09</td>\n",
       "      <td>1.749139</td>\n",
       "      <td>-75.558239</td>\n",
       "      <td>MULTIPOLYGON (((-75.42074 2.19413, -75.42042 2...</td>\n",
       "      <td></td>\n",
       "    </tr>\n",
       "    <tr>\n",
       "      <th>18029</th>\n",
       "      <td>18</td>\n",
       "      <td>029</td>\n",
       "      <td>ALBANIA</td>\n",
       "      <td>4.141221e+08</td>\n",
       "      <td>1.227865</td>\n",
       "      <td>-75.882327</td>\n",
       "      <td>MULTIPOLYGON (((-75.89506 1.36570, -75.89506 1...</td>\n",
       "      <td></td>\n",
       "    </tr>\n",
       "    <tr>\n",
       "      <th>18094</th>\n",
       "      <td>18</td>\n",
       "      <td>094</td>\n",
       "      <td>BELÉN DE LOS ANDAQUÍES</td>\n",
       "      <td>1.191619e+09</td>\n",
       "      <td>1.500923</td>\n",
       "      <td>-75.875645</td>\n",
       "      <td>MULTIPOLYGON (((-75.78705 1.74982, -75.78715 1...</td>\n",
       "      <td></td>\n",
       "    </tr>\n",
       "    <tr>\n",
       "      <th>18247</th>\n",
       "      <td>18</td>\n",
       "      <td>247</td>\n",
       "      <td>EL DONCELLO</td>\n",
       "      <td>1.106076e+09</td>\n",
       "      <td>1.791386</td>\n",
       "      <td>-75.193944</td>\n",
       "      <td>MULTIPOLYGON (((-75.36167 2.32143, -75.36142 2...</td>\n",
       "      <td></td>\n",
       "    </tr>\n",
       "    <tr>\n",
       "      <th>18256</th>\n",
       "      <td>18</td>\n",
       "      <td>256</td>\n",
       "      <td>EL PAUJÍL</td>\n",
       "      <td>1.234734e+09</td>\n",
       "      <td>1.617746</td>\n",
       "      <td>-75.234043</td>\n",
       "      <td>MULTIPOLYGON (((-75.36638 2.20952, -75.35963 2...</td>\n",
       "      <td></td>\n",
       "    </tr>\n",
       "  </tbody>\n",
       "</table>\n",
       "</div>"
      ],
      "text/plain": [
       "      ID_DEP ID_MUN               municipio          AREA   LATITUD  \\\n",
       "ID                                                                    \n",
       "18001     18    001               FLORENCIA  2.547638e+09  1.749139   \n",
       "18029     18    029                 ALBANIA  4.141221e+08  1.227865   \n",
       "18094     18    094  BELÉN DE LOS ANDAQUÍES  1.191619e+09  1.500923   \n",
       "18247     18    247             EL DONCELLO  1.106076e+09  1.791386   \n",
       "18256     18    256               EL PAUJÍL  1.234734e+09  1.617746   \n",
       "\n",
       "        LONGITUD                                           geometry adjacent  \n",
       "ID                                                                            \n",
       "18001 -75.558239  MULTIPOLYGON (((-75.42074 2.19413, -75.42042 2...           \n",
       "18029 -75.882327  MULTIPOLYGON (((-75.89506 1.36570, -75.89506 1...           \n",
       "18094 -75.875645  MULTIPOLYGON (((-75.78705 1.74982, -75.78715 1...           \n",
       "18247 -75.193944  MULTIPOLYGON (((-75.36167 2.32143, -75.36142 2...           \n",
       "18256 -75.234043  MULTIPOLYGON (((-75.36638 2.20952, -75.35963 2...           "
      ]
     },
     "execution_count": 5,
     "metadata": {},
     "output_type": "execute_result"
    }
   ],
   "source": [
    "geo.head()"
   ]
  },
  {
   "cell_type": "markdown",
   "id": "1828fdc0-0bd5-4a9e-9fd2-7e019895a548",
   "metadata": {},
   "source": [
    "### Correction (2018->2022)"
   ]
  },
  {
   "cell_type": "markdown",
   "id": "fa66bcc8-90c5-4833-a519-060d3bea28ba",
   "metadata": {},
   "source": [
    "As the geoJSON is older than the listing, there are some discrepancies:"
   ]
  },
  {
   "cell_type": "code",
   "execution_count": 6,
   "id": "abaf05ec-83f0-4315-9b01-03d85cb6b4b2",
   "metadata": {},
   "outputs": [
    {
     "data": {
      "text/plain": [
       "{'94663'}"
      ]
     },
     "execution_count": 6,
     "metadata": {},
     "output_type": "execute_result"
    }
   ],
   "source": [
    "# all IDs in geo that are not in DANE\n",
    "set(geo.index) - set(DANE.index)"
   ]
  },
  {
   "cell_type": "code",
   "execution_count": 7,
   "id": "66cc86df-d17e-474f-b52a-c3146edbc21c",
   "metadata": {},
   "outputs": [
    {
     "data": {
      "text/plain": [
       "set()"
      ]
     },
     "execution_count": 7,
     "metadata": {},
     "output_type": "execute_result"
    }
   ],
   "source": [
    "# all IDs in DANE that are not in geo\n",
    "set(DANE.index) - set(geo.index)"
   ]
  },
  {
   "cell_type": "markdown",
   "id": "8acd5f7a-1bf6-4e10-b55c-e08251ddbfef",
   "metadata": {},
   "source": [
    "The missing one is"
   ]
  },
  {
   "cell_type": "code",
   "execution_count": 8,
   "id": "c292e3e7-51fd-45df-9a91-f29906bbf2f4",
   "metadata": {},
   "outputs": [
    {
     "data": {
      "text/html": [
       "<div>\n",
       "<style scoped>\n",
       "    .dataframe tbody tr th:only-of-type {\n",
       "        vertical-align: middle;\n",
       "    }\n",
       "\n",
       "    .dataframe tbody tr th {\n",
       "        vertical-align: top;\n",
       "    }\n",
       "\n",
       "    .dataframe thead th {\n",
       "        text-align: right;\n",
       "    }\n",
       "</style>\n",
       "<table border=\"1\" class=\"dataframe\">\n",
       "  <thead>\n",
       "    <tr style=\"text-align: right;\">\n",
       "      <th></th>\n",
       "      <th>ID_DEP</th>\n",
       "      <th>ID_MUN</th>\n",
       "      <th>municipio</th>\n",
       "      <th>AREA</th>\n",
       "      <th>LATITUD</th>\n",
       "      <th>LONGITUD</th>\n",
       "      <th>geometry</th>\n",
       "      <th>adjacent</th>\n",
       "    </tr>\n",
       "    <tr>\n",
       "      <th>ID</th>\n",
       "      <th></th>\n",
       "      <th></th>\n",
       "      <th></th>\n",
       "      <th></th>\n",
       "      <th></th>\n",
       "      <th></th>\n",
       "      <th></th>\n",
       "      <th></th>\n",
       "    </tr>\n",
       "  </thead>\n",
       "  <tbody>\n",
       "    <tr>\n",
       "      <th>94663</th>\n",
       "      <td>94</td>\n",
       "      <td>663</td>\n",
       "      <td>MAPIRIPANA</td>\n",
       "      <td>4.927905e+09</td>\n",
       "      <td>2.808882</td>\n",
       "      <td>-70.269326</td>\n",
       "      <td>MULTIPOLYGON (((-70.10453 3.38436, -70.10219 3...</td>\n",
       "      <td></td>\n",
       "    </tr>\n",
       "  </tbody>\n",
       "</table>\n",
       "</div>"
      ],
      "text/plain": [
       "      ID_DEP ID_MUN   municipio          AREA   LATITUD   LONGITUD  \\\n",
       "ID                                                                   \n",
       "94663     94    663  MAPIRIPANA  4.927905e+09  2.808882 -70.269326   \n",
       "\n",
       "                                                geometry adjacent  \n",
       "ID                                                                 \n",
       "94663  MULTIPOLYGON (((-70.10453 3.38436, -70.10219 3...           "
      ]
     },
     "execution_count": 8,
     "metadata": {},
     "output_type": "execute_result"
    }
   ],
   "source": [
    "geo.loc[[\"94663\"]]"
   ]
  },
  {
   "cell_type": "markdown",
   "id": "a787d7da-ac57-4d7a-a617-8401d0cddd17",
   "metadata": {},
   "source": [
    "Wich since has merged with `94343`, Barrancominas, Guainía."
   ]
  },
  {
   "cell_type": "code",
   "execution_count": 9,
   "id": "b4ae9b51-8d53-4a1b-a7c6-f83b8479cbcd",
   "metadata": {},
   "outputs": [
    {
     "data": {
      "text/plain": [
       "<AxesSubplot:>"
      ]
     },
     "execution_count": 9,
     "metadata": {},
     "output_type": "execute_result"
    },
    {
     "data": {
      "image/png": "[encoded data removed]",
      "text/plain": [
       "<Figure size 432x288 with 1 Axes>"
      ]
     },
     "metadata": {
      "needs_background": "light"
     },
     "output_type": "display_data"
    }
   ],
   "source": [
    "geo.loc[[\"94663\"]].plot(color='gray')\n",
    "geo.loc[[\"94343\"]].plot(ax=plt.gca())"
   ]
  },
  {
   "cell_type": "code",
   "execution_count": 10,
   "id": "f6edaee1-01b1-4d4d-98a2-0c6a69eb7030",
   "metadata": {},
   "outputs": [
    {
     "data": {
      "text/html": [
       "<div>\n",
       "<style scoped>\n",
       "    .dataframe tbody tr th:only-of-type {\n",
       "        vertical-align: middle;\n",
       "    }\n",
       "\n",
       "    .dataframe tbody tr th {\n",
       "        vertical-align: top;\n",
       "    }\n",
       "\n",
       "    .dataframe thead th {\n",
       "        text-align: right;\n",
       "    }\n",
       "</style>\n",
       "<table border=\"1\" class=\"dataframe\">\n",
       "  <thead>\n",
       "    <tr style=\"text-align: right;\">\n",
       "      <th></th>\n",
       "      <th>ID_DEP</th>\n",
       "      <th>ID_MUN</th>\n",
       "      <th>municipio</th>\n",
       "      <th>AREA</th>\n",
       "      <th>LATITUD</th>\n",
       "      <th>LONGITUD</th>\n",
       "      <th>geometry</th>\n",
       "      <th>adjacent</th>\n",
       "    </tr>\n",
       "    <tr>\n",
       "      <th>ID</th>\n",
       "      <th></th>\n",
       "      <th></th>\n",
       "      <th></th>\n",
       "      <th></th>\n",
       "      <th></th>\n",
       "      <th></th>\n",
       "      <th></th>\n",
       "      <th></th>\n",
       "    </tr>\n",
       "  </thead>\n",
       "  <tbody>\n",
       "    <tr>\n",
       "      <th>94663</th>\n",
       "      <td>94</td>\n",
       "      <td>663</td>\n",
       "      <td>MAPIRIPANA</td>\n",
       "      <td>4.927905e+09</td>\n",
       "      <td>2.808882</td>\n",
       "      <td>-70.269326</td>\n",
       "      <td>MULTIPOLYGON (((-70.10453 3.38436, -70.10219 3...</td>\n",
       "      <td></td>\n",
       "    </tr>\n",
       "    <tr>\n",
       "      <th>94343</th>\n",
       "      <td>94</td>\n",
       "      <td>343</td>\n",
       "      <td>BARRANCOMINAS</td>\n",
       "      <td>9.467772e+09</td>\n",
       "      <td>3.313508</td>\n",
       "      <td>-69.398770</td>\n",
       "      <td>MULTIPOLYGON (((-68.91332 3.68216, -68.91308 3...</td>\n",
       "      <td></td>\n",
       "    </tr>\n",
       "  </tbody>\n",
       "</table>\n",
       "</div>"
      ],
      "text/plain": [
       "      ID_DEP ID_MUN      municipio          AREA   LATITUD   LONGITUD  \\\n",
       "ID                                                                      \n",
       "94663     94    663     MAPIRIPANA  4.927905e+09  2.808882 -70.269326   \n",
       "94343     94    343  BARRANCOMINAS  9.467772e+09  3.313508 -69.398770   \n",
       "\n",
       "                                                geometry adjacent  \n",
       "ID                                                                 \n",
       "94663  MULTIPOLYGON (((-70.10453 3.38436, -70.10219 3...           \n",
       "94343  MULTIPOLYGON (((-68.91332 3.68216, -68.91308 3...           "
      ]
     },
     "execution_count": 10,
     "metadata": {},
     "output_type": "execute_result"
    }
   ],
   "source": [
    "geo.loc[[\"94663\",\"94343\"]]"
   ]
  },
  {
   "cell_type": "code",
   "execution_count": 11,
   "id": "f41f6e06-4d62-47c9-99e8-f2bb23425019",
   "metadata": {},
   "outputs": [],
   "source": [
    "geo.at[\"94343\",\"geometry\"] = unary_union(geo.loc[[\"94663\",\"94343\"]].geometry)"
   ]
  },
  {
   "cell_type": "code",
   "execution_count": 12,
   "id": "a350d609-c915-4e57-9cff-67f8f392e6f5",
   "metadata": {},
   "outputs": [],
   "source": [
    "geo.drop(\"94663\",inplace=True)"
   ]
  },
  {
   "cell_type": "code",
   "execution_count": 13,
   "id": "65343469-9ce1-4912-9b94-01bd5d52de53",
   "metadata": {},
   "outputs": [
    {
     "data": {
      "text/plain": [
       "<AxesSubplot:>"
      ]
     },
     "execution_count": 13,
     "metadata": {},
     "output_type": "execute_result"
    },
    {
     "data": {
      "image/png": "[encoded data removed]",
      "text/plain": [
       "<Figure size 432x288 with 1 Axes>"
      ]
     },
     "metadata": {
      "needs_background": "light"
     },
     "output_type": "display_data"
    }
   ],
   "source": [
    "geo.loc[[\"94343\"]].plot()"
   ]
  },
  {
   "cell_type": "markdown",
   "id": "3ec474ab-4b03-4d96-84c8-debd247f99da",
   "metadata": {},
   "source": [
    "The IDs are now complete"
   ]
  },
  {
   "cell_type": "code",
   "execution_count": 14,
   "id": "4c6b8c18-1673-4fa3-bf6d-d074db3988d8",
   "metadata": {},
   "outputs": [
    {
     "data": {
      "text/plain": [
       "True"
      ]
     },
     "execution_count": 14,
     "metadata": {},
     "output_type": "execute_result"
    }
   ],
   "source": [
    "set(geo.index) == set(DANE.index)"
   ]
  },
  {
   "cell_type": "markdown",
   "id": "e3c92bfd-9c58-4311-8157-358aa60c6a2a",
   "metadata": {},
   "source": [
    "### Limiting regions"
   ]
  },
  {
   "cell_type": "code",
   "execution_count": 15,
   "id": "010ea9f4-e9b8-4fca-bac9-82f068d1bb86",
   "metadata": {},
   "outputs": [
    {
     "name": "stderr",
     "output_type": "stream",
     "text": [
      "100%|████████████████████████████████████████████████████████████████████████████████████████████████████████████████████| 1121/1121 [00:52<00:00, 21.30it/s]\n"
     ]
    }
   ],
   "source": [
    "# add all surroinding municipalities (and itself) to adjacent regions, as a list\n",
    "for i,mun in tqdm(geo.iterrows(),total=len(geo)):\n",
    "    geo.at[i,\"adjacent\"] = [i] + list(\n",
    "        geo[ geo.geometry.touches(mun.geometry) ].index\n",
    "    )"
   ]
  },
  {
   "cell_type": "markdown",
   "id": "5131ef29-21ce-4d57-a600-43f2cefa3b50",
   "metadata": {},
   "source": [
    "An example: the first municipality by code (dark) and all its adjacent regions"
   ]
  },
  {
   "cell_type": "code",
   "execution_count": 16,
   "id": "40677b00-9ded-4270-be94-7d4d57b2f2dc",
   "metadata": {},
   "outputs": [
    {
     "data": {
      "text/plain": [
       "Text(0.5, 1.0, 'MEDELLÍN')"
      ]
     },
     "execution_count": 16,
     "metadata": {},
     "output_type": "execute_result"
    },
    {
     "data": {
      "image/png": "[encoded data removed]",
      "text/plain": [
       "<Figure size 432x288 with 1 Axes>"
      ]
     },
     "metadata": {
      "needs_background": "light"
     },
     "output_type": "display_data"
    }
   ],
   "source": [
    "ad = geo.loc[geo.loc['05001'].adjacent].plot(ax=plt.gca())\n",
    "own = geo.loc[['05001']].plot(ax=plt.gca(),color='k',alpha=0.5)\n",
    "plt.title(geo.loc['05001',\"municipio\"])"
   ]
  },
  {
   "cell_type": "markdown",
   "id": "a2d3ebd2-72f3-4073-b895-7f93304c947f",
   "metadata": {},
   "source": [
    "#### Adjacent municipalities"
   ]
  },
  {
   "cell_type": "markdown",
   "id": "4962a423-a959-4c95-b3d5-a3abb1980bcf",
   "metadata": {},
   "source": [
    "With this we can construct an adjacent municipalities dictionary, that maps every municipality code to a list with the codes of its limiting municipality (and itself)"
   ]
  },
  {
   "cell_type": "code",
   "execution_count": 17,
   "id": "f32ac8cb-9734-4972-bc4c-26b39bd61345",
   "metadata": {
    "tags": []
   },
   "outputs": [],
   "source": [
    "adjacent_mun = geo.adjacent.to_dict()\n",
    "with open(\"adjacent_municipalities.json\",\"w\") as file:\n",
    "    json.dump(adjacent_mun,file)"
   ]
  },
  {
   "cell_type": "markdown",
   "id": "b3f6875f-44c4-4a11-b4e9-98b0996b1494",
   "metadata": {},
   "source": [
    "#### Adjacent departments"
   ]
  },
  {
   "cell_type": "code",
   "execution_count": 72,
   "id": "9d1c758f-40de-4673-9104-b738ac821183",
   "metadata": {},
   "outputs": [],
   "source": [
    "adjacent_dep = geo.groupby(\"ID_DEP\").adjacent\\\n",
    "    .apply(list)\\\n",
    "    .apply(sum,start=[])\\\n",
    "    .apply(lambda x: list(set(i[:2] for i in x)))\\\n",
    "    .to_dict()\n",
    "\n",
    "with open(\"adjacent_departments.json\",\"w\") as file:\n",
    "    json.dump(adjacent_dep,file)"
   ]
  },
  {
   "cell_type": "markdown",
   "id": "39886dcc-5476-4f61-ad51-c2753ef1353e",
   "metadata": {},
   "source": [
    "#### Municipalities of adjacent departments"
   ]
  },
  {
   "cell_type": "code",
   "execution_count": 84,
   "id": "f9ced31f-59b7-4280-ae5f-a601d4df10d0",
   "metadata": {
    "tags": []
   },
   "outputs": [],
   "source": [
    "with open(\"muns_of_adjacent_deps.json\",\"w\") as file:\n",
    "    json.dump(\n",
    "        {dep:geo.query(\"ID_DEP in @adjacent\").index.unique().tolist() for dep,adjacent in adjacent_dep.items()},\n",
    "        file\n",
    "    )"
   ]
  },
  {
   "cell_type": "markdown",
   "id": "ef1e2142-e962-40cd-8911-fd980c7cfb7c",
   "metadata": {},
   "source": [
    "# GeoJSON Reduction"
   ]
  },
  {
   "cell_type": "markdown",
   "id": "0b6c09ab-d301-40a3-8781-e1d86626366c",
   "metadata": {},
   "source": [
    "Without reducing the geographical data from DANE, plotting would be impossible. The geojson's polygons for the municipality level has an incredible amount of detail.\n",
    "\n",
    "For the reduction we use the [geopandas simplify function](https://geopandas.org/en/stable/docs/reference/api/geopandas.GeoSeries.simplify.html):"
   ]
  },
  {
   "cell_type": "code",
   "execution_count": 26,
   "id": "3555a538-6fb5-4a0c-b05b-9210cb45bf1a",
   "metadata": {},
   "outputs": [
    {
     "name": "stdout",
     "output_type": "stream",
     "text": [
      "CPU times: user 6.25 s, sys: 6.55 ms, total: 6.26 s\n",
      "Wall time: 6.27 s\n"
     ]
    }
   ],
   "source": [
    "geo_simple = geo.copy()\n",
    "%time geo_simple.geometry = geo.geometry.simplify(0.01)"
   ]
  },
  {
   "cell_type": "markdown",
   "id": "ba98216a-cc0b-4872-889d-6159d6bfad88",
   "metadata": {},
   "source": [
    "We have reduced the amount of data by two orders of magnitude:"
   ]
  },
  {
   "cell_type": "code",
   "execution_count": 27,
   "id": "5e60fa12-057f-4664-96b5-50a39f15f447",
   "metadata": {},
   "outputs": [
    {
     "data": {
      "image/png": "[encoded data removed]",
      "text/plain": [
       "<Figure size 600x400 with 1 Axes>"
      ]
     },
     "metadata": {
      "needs_background": "light"
     },
     "output_type": "display_data"
    }
   ],
   "source": [
    "plt.figure(dpi=100)\n",
    "geo.geometry.sample(300).apply(str).apply(len).hist(bins=np.logspace(4,6,20),ax=plt.gca(),label=\"raw\")\n",
    "geo_simple.geometry.sample(300).apply(str).apply(len).hist(bins=np.logspace(2,5,20),ax=plt.gca(),label=\"simplified\")\n",
    "plt.xscale(\"log\")\n",
    "plt.legend()\n",
    "plt.xlabel(\"amount of characters per polygon\")\n",
    "plt.grid(False);"
   ]
  },
  {
   "cell_type": "code",
   "execution_count": 29,
   "id": "0c296353-972e-42d4-a4d1-e74c1bc152af",
   "metadata": {},
   "outputs": [],
   "source": [
    "geo_simple = pd.concat([DANE.departamento,geo_simple],axis=1)[[\n",
    "    \"ID_DEP\",\"departamento\",\n",
    "    \"ID_MUN\",\"municipio\",\n",
    "    \"LATITUD\",\"LONGITUD\",\n",
    "    \"adjacent\",\"AREA\",\"geometry\"\n",
    "]]"
   ]
  },
  {
   "cell_type": "code",
   "execution_count": 40,
   "id": "28d6e1a6-cd38-4647-b176-c010ea965ef7",
   "metadata": {},
   "outputs": [],
   "source": [
    "for column in [\"departamento\",\"municipio\"]:\n",
    "    geo_simple[column] = geo_simple[column].str.lower()"
   ]
  },
  {
   "cell_type": "code",
   "execution_count": 55,
   "id": "2c83544a-0f4e-466b-9516-b0b66e84356d",
   "metadata": {},
   "outputs": [],
   "source": [
    "# GeoJSON does not support simple arrays, for some reason\n",
    "geo_simple.adjacent = geo_simple.adjacent.apply(\" \".join)"
   ]
  },
  {
   "cell_type": "code",
   "execution_count": 54,
   "id": "c97d5f19-f06b-477a-831f-7d5b0e764f43",
   "metadata": {},
   "outputs": [],
   "source": [
    "with open(\"Municipios_Colombia.geojson\",\"w\") as file:\n",
    "    file.write(geo_simple.to_json(drop_id=False))"
   ]
  },
  {
   "cell_type": "markdown",
   "id": "480da8f1-f0e1-4423-a656-2141359d9312",
   "metadata": {},
   "source": [
    "# Finally"
   ]
  },
  {
   "cell_type": "markdown",
   "id": "ea8f3b4b-20aa-4838-b19e-fbc84ee08c1c",
   "metadata": {},
   "source": [
    "We have dictionaries describing the adjacent municipalities for every municipality and department.\n",
    "\n",
    "This will allow us to search for a missing municipality name on both the department that is reported an in the limiting municipalities outside the given department.\n",
    "\n",
    "For example, if the reported department is Cauca, we would search on:"
   ]
  },
  {
   "cell_type": "code",
   "execution_count": 33,
   "id": "a3126b84-cc09-462e-9e4d-ae608da98078",
   "metadata": {},
   "outputs": [
    {
     "data": {
      "text/plain": [
       "array(['19'], dtype=object)"
      ]
     },
     "execution_count": 33,
     "metadata": {},
     "output_type": "execute_result"
    }
   ],
   "source": [
    "geo_simple.query(\"departamento == 'CAUCA'\").ID_DEP.unique()"
   ]
  },
  {
   "cell_type": "code",
   "execution_count": 34,
   "id": "5a94fc19-4c21-4707-8193-9d6098a658ff",
   "metadata": {},
   "outputs": [],
   "source": [
    "dep = '19'\n",
    "subset = geo_simple.query(\"ID_DEP == @dep\")"
   ]
  },
  {
   "cell_type": "code",
   "execution_count": 35,
   "id": "ad1c2aa3-9930-487d-88d4-902a8a031c69",
   "metadata": {},
   "outputs": [
    {
     "data": {
      "text/plain": [
       "<AxesSubplot:>"
      ]
     },
     "execution_count": 35,
     "metadata": {},
     "output_type": "execute_result"
    },
    {
     "data": {
      "image/png": "[encoded data removed]",
      "text/plain": [
       "<Figure size 720x720 with 1 Axes>"
      ]
     },
     "metadata": {
      "needs_background": "light"
     },
     "output_type": "display_data"
    }
   ],
   "source": [
    "plt.figure(figsize=(10,10))\n",
    "geo.loc[limit_and_self_mun[dep]].plot(ax=plt.gca())\n",
    "subset.geometry.plot(ax=plt.gca(),color='k',alpha=0.6)"
   ]
  },
  {
   "cell_type": "markdown",
   "id": "2f0f9646-51bc-4943-a96b-b490aedf06d1",
   "metadata": {},
   "source": [
    "Where the municipalities of Cauca are in dark blue, and the limiting ones in blue"
   ]
  },
  {
   "cell_type": "markdown",
   "id": "60babf4f-a3d7-4dd9-8613-da01fe627df8",
   "metadata": {},
   "source": [
    "# Last details"
   ]
  },
  {
   "cell_type": "code",
   "execution_count": 49,
   "id": "f69ed98d-55b0-415e-8426-5b4a96b454d2",
   "metadata": {},
   "outputs": [
    {
     "data": {
      "text/html": [
       "<div>\n",
       "<style scoped>\n",
       "    .dataframe tbody tr th:only-of-type {\n",
       "        vertical-align: middle;\n",
       "    }\n",
       "\n",
       "    .dataframe tbody tr th {\n",
       "        vertical-align: top;\n",
       "    }\n",
       "\n",
       "    .dataframe thead th {\n",
       "        text-align: right;\n",
       "    }\n",
       "</style>\n",
       "<table border=\"1\" class=\"dataframe\">\n",
       "  <thead>\n",
       "    <tr style=\"text-align: right;\">\n",
       "      <th></th>\n",
       "      <th>ID_DEP</th>\n",
       "      <th>departamento</th>\n",
       "      <th>ID_MUN</th>\n",
       "      <th>municipio</th>\n",
       "      <th>LATITUD</th>\n",
       "      <th>LONGITUD</th>\n",
       "      <th>adjacent</th>\n",
       "      <th>AREA</th>\n",
       "      <th>geometry</th>\n",
       "    </tr>\n",
       "    <tr>\n",
       "      <th>ID</th>\n",
       "      <th></th>\n",
       "      <th></th>\n",
       "      <th></th>\n",
       "      <th></th>\n",
       "      <th></th>\n",
       "      <th></th>\n",
       "      <th></th>\n",
       "      <th></th>\n",
       "      <th></th>\n",
       "    </tr>\n",
       "  </thead>\n",
       "  <tbody>\n",
       "    <tr>\n",
       "      <th>05001</th>\n",
       "      <td>05</td>\n",
       "      <td>antioquia</td>\n",
       "      <td>001</td>\n",
       "      <td>medellín</td>\n",
       "      <td>6.257590</td>\n",
       "      <td>-75.611031</td>\n",
       "      <td>[05001, 05088, 05036, 05266, 05240, 05212, 056...</td>\n",
       "      <td>3.748306e+08</td>\n",
       "      <td>POLYGON ((-75.66974 6.37360, -75.63443 6.31732...</td>\n",
       "    </tr>\n",
       "    <tr>\n",
       "      <th>05002</th>\n",
       "      <td>05</td>\n",
       "      <td>antioquia</td>\n",
       "      <td>002</td>\n",
       "      <td>abejorral</td>\n",
       "      <td>5.803728</td>\n",
       "      <td>-75.438474</td>\n",
       "      <td>[05002, 17013, 05756, 05679, 05148, 05467, 054...</td>\n",
       "      <td>5.071341e+08</td>\n",
       "      <td>POLYGON ((-75.46938 5.94575, -75.44551 5.93363...</td>\n",
       "    </tr>\n",
       "    <tr>\n",
       "      <th>05004</th>\n",
       "      <td>05</td>\n",
       "      <td>antioquia</td>\n",
       "      <td>004</td>\n",
       "      <td>abriaquí</td>\n",
       "      <td>6.627569</td>\n",
       "      <td>-76.085978</td>\n",
       "      <td>[05004, 05042, 05306, 05138, 05125, 05284, 05847]</td>\n",
       "      <td>2.969560e+08</td>\n",
       "      <td>POLYGON ((-76.08351 6.75050, -76.04027 6.70466...</td>\n",
       "    </tr>\n",
       "    <tr>\n",
       "      <th>05021</th>\n",
       "      <td>05</td>\n",
       "      <td>antioquia</td>\n",
       "      <td>021</td>\n",
       "      <td>alejandría</td>\n",
       "      <td>6.365534</td>\n",
       "      <td>-75.090597</td>\n",
       "      <td>[05021, 05690, 05206, 05670, 05667, 05321]</td>\n",
       "      <td>1.289322e+08</td>\n",
       "      <td>POLYGON ((-75.03320 6.41586, -74.98522 6.37545...</td>\n",
       "    </tr>\n",
       "    <tr>\n",
       "      <th>05030</th>\n",
       "      <td>05</td>\n",
       "      <td>antioquia</td>\n",
       "      <td>030</td>\n",
       "      <td>amagá</td>\n",
       "      <td>6.032922</td>\n",
       "      <td>-75.708003</td>\n",
       "      <td>[05030, 05036, 05861, 05809, 05282, 05129]</td>\n",
       "      <td>8.413248e+07</td>\n",
       "      <td>POLYGON ((-75.67587 6.08561, -75.67155 6.05480...</td>\n",
       "    </tr>\n",
       "    <tr>\n",
       "      <th>...</th>\n",
       "      <td>...</td>\n",
       "      <td>...</td>\n",
       "      <td>...</td>\n",
       "      <td>...</td>\n",
       "      <td>...</td>\n",
       "      <td>...</td>\n",
       "      <td>...</td>\n",
       "      <td>...</td>\n",
       "      <td>...</td>\n",
       "    </tr>\n",
       "    <tr>\n",
       "      <th>97889</th>\n",
       "      <td>97</td>\n",
       "      <td>vaupés</td>\n",
       "      <td>889</td>\n",
       "      <td>yavaraté</td>\n",
       "      <td>0.833312</td>\n",
       "      <td>-69.618678</td>\n",
       "      <td>[97889, 97001]</td>\n",
       "      <td>4.660406e+09</td>\n",
       "      <td>POLYGON ((-69.70210 1.10907, -69.70361 1.07638...</td>\n",
       "    </tr>\n",
       "    <tr>\n",
       "      <th>99001</th>\n",
       "      <td>99</td>\n",
       "      <td>vichada</td>\n",
       "      <td>001</td>\n",
       "      <td>puerto carreño</td>\n",
       "      <td>5.836530</td>\n",
       "      <td>-68.141222</td>\n",
       "      <td>[99001, 99524, 99773]</td>\n",
       "      <td>1.220495e+10</td>\n",
       "      <td>POLYGON ((-67.80972 6.32432, -67.76177 6.29137...</td>\n",
       "    </tr>\n",
       "    <tr>\n",
       "      <th>99524</th>\n",
       "      <td>99</td>\n",
       "      <td>vichada</td>\n",
       "      <td>524</td>\n",
       "      <td>la primavera</td>\n",
       "      <td>5.521561</td>\n",
       "      <td>-69.610481</td>\n",
       "      <td>[99524, 99624, 99001, 99773, 85430, 85250, 81220]</td>\n",
       "      <td>1.836290e+10</td>\n",
       "      <td>POLYGON ((-69.03359 6.21870, -69.01390 6.19287...</td>\n",
       "    </tr>\n",
       "    <tr>\n",
       "      <th>99624</th>\n",
       "      <td>99</td>\n",
       "      <td>vichada</td>\n",
       "      <td>624</td>\n",
       "      <td>santa rosalía</td>\n",
       "      <td>4.978996</td>\n",
       "      <td>-70.651756</td>\n",
       "      <td>[99624, 99524, 99773, 85230, 85325, 85430, 50568]</td>\n",
       "      <td>3.898310e+09</td>\n",
       "      <td>POLYGON ((-70.65378 5.37298, -70.19749 4.88360...</td>\n",
       "    </tr>\n",
       "    <tr>\n",
       "      <th>99773</th>\n",
       "      <td>99</td>\n",
       "      <td>vichada</td>\n",
       "      <td>773</td>\n",
       "      <td>cumaribo</td>\n",
       "      <td>4.262455</td>\n",
       "      <td>-69.521405</td>\n",
       "      <td>[99773, 94001, 94343, 99624, 99001, 99524, 950...</td>\n",
       "      <td>6.559721e+10</td>\n",
       "      <td>POLYGON ((-68.47074 5.55047, -68.45798 5.52367...</td>\n",
       "    </tr>\n",
       "  </tbody>\n",
       "</table>\n",
       "<p>1121 rows × 9 columns</p>\n",
       "</div>"
      ],
      "text/plain": [
       "      ID_DEP departamento ID_MUN       municipio   LATITUD   LONGITUD  \\\n",
       "ID                                                                      \n",
       "05001     05    antioquia    001        medellín  6.257590 -75.611031   \n",
       "05002     05    antioquia    002       abejorral  5.803728 -75.438474   \n",
       "05004     05    antioquia    004        abriaquí  6.627569 -76.085978   \n",
       "05021     05    antioquia    021      alejandría  6.365534 -75.090597   \n",
       "05030     05    antioquia    030           amagá  6.032922 -75.708003   \n",
       "...      ...          ...    ...             ...       ...        ...   \n",
       "97889     97       vaupés    889        yavaraté  0.833312 -69.618678   \n",
       "99001     99      vichada    001  puerto carreño  5.836530 -68.141222   \n",
       "99524     99      vichada    524    la primavera  5.521561 -69.610481   \n",
       "99624     99      vichada    624   santa rosalía  4.978996 -70.651756   \n",
       "99773     99      vichada    773        cumaribo  4.262455 -69.521405   \n",
       "\n",
       "                                                adjacent          AREA  \\\n",
       "ID                                                                       \n",
       "05001  [05001, 05088, 05036, 05266, 05240, 05212, 056...  3.748306e+08   \n",
       "05002  [05002, 17013, 05756, 05679, 05148, 05467, 054...  5.071341e+08   \n",
       "05004  [05004, 05042, 05306, 05138, 05125, 05284, 05847]  2.969560e+08   \n",
       "05021         [05021, 05690, 05206, 05670, 05667, 05321]  1.289322e+08   \n",
       "05030         [05030, 05036, 05861, 05809, 05282, 05129]  8.413248e+07   \n",
       "...                                                  ...           ...   \n",
       "97889                                     [97889, 97001]  4.660406e+09   \n",
       "99001                              [99001, 99524, 99773]  1.220495e+10   \n",
       "99524  [99524, 99624, 99001, 99773, 85430, 85250, 81220]  1.836290e+10   \n",
       "99624  [99624, 99524, 99773, 85230, 85325, 85430, 50568]  3.898310e+09   \n",
       "99773  [99773, 94001, 94343, 99624, 99001, 99524, 950...  6.559721e+10   \n",
       "\n",
       "                                                geometry  \n",
       "ID                                                        \n",
       "05001  POLYGON ((-75.66974 6.37360, -75.63443 6.31732...  \n",
       "05002  POLYGON ((-75.46938 5.94575, -75.44551 5.93363...  \n",
       "05004  POLYGON ((-76.08351 6.75050, -76.04027 6.70466...  \n",
       "05021  POLYGON ((-75.03320 6.41586, -74.98522 6.37545...  \n",
       "05030  POLYGON ((-75.67587 6.08561, -75.67155 6.05480...  \n",
       "...                                                  ...  \n",
       "97889  POLYGON ((-69.70210 1.10907, -69.70361 1.07638...  \n",
       "99001  POLYGON ((-67.80972 6.32432, -67.76177 6.29137...  \n",
       "99524  POLYGON ((-69.03359 6.21870, -69.01390 6.19287...  \n",
       "99624  POLYGON ((-70.65378 5.37298, -70.19749 4.88360...  \n",
       "99773  POLYGON ((-68.47074 5.55047, -68.45798 5.52367...  \n",
       "\n",
       "[1121 rows x 9 columns]"
      ]
     },
     "execution_count": 49,
     "metadata": {},
     "output_type": "execute_result"
    }
   ],
   "source": [
    "geo_simple"
   ]
  },
  {
   "cell_type": "code",
   "execution_count": 47,
   "id": "d593d232-c7f1-463d-a9f7-88f0f2e4d941",
   "metadata": {},
   "outputs": [
    {
     "data": {
      "text/html": [
       "<div>\n",
       "<style scoped>\n",
       "    .dataframe tbody tr th:only-of-type {\n",
       "        vertical-align: middle;\n",
       "    }\n",
       "\n",
       "    .dataframe tbody tr th {\n",
       "        vertical-align: top;\n",
       "    }\n",
       "\n",
       "    .dataframe thead th {\n",
       "        text-align: right;\n",
       "    }\n",
       "</style>\n",
       "<table border=\"1\" class=\"dataframe\">\n",
       "  <thead>\n",
       "    <tr style=\"text-align: right;\">\n",
       "      <th></th>\n",
       "      <th>departamento</th>\n",
       "    </tr>\n",
       "    <tr>\n",
       "      <th>ID_DEP</th>\n",
       "      <th></th>\n",
       "    </tr>\n",
       "  </thead>\n",
       "  <tbody>\n",
       "    <tr>\n",
       "      <th>05</th>\n",
       "      <td>antioquia</td>\n",
       "    </tr>\n",
       "    <tr>\n",
       "      <th>08</th>\n",
       "      <td>atlántico</td>\n",
       "    </tr>\n",
       "    <tr>\n",
       "      <th>11</th>\n",
       "      <td>bogotá, d.c.</td>\n",
       "    </tr>\n",
       "    <tr>\n",
       "      <th>13</th>\n",
       "      <td>bolívar</td>\n",
       "    </tr>\n",
       "    <tr>\n",
       "      <th>15</th>\n",
       "      <td>boyacá</td>\n",
       "    </tr>\n",
       "    <tr>\n",
       "      <th>17</th>\n",
       "      <td>caldas</td>\n",
       "    </tr>\n",
       "    <tr>\n",
       "      <th>18</th>\n",
       "      <td>caquetá</td>\n",
       "    </tr>\n",
       "    <tr>\n",
       "      <th>19</th>\n",
       "      <td>cauca</td>\n",
       "    </tr>\n",
       "    <tr>\n",
       "      <th>20</th>\n",
       "      <td>cesar</td>\n",
       "    </tr>\n",
       "    <tr>\n",
       "      <th>23</th>\n",
       "      <td>córdoba</td>\n",
       "    </tr>\n",
       "    <tr>\n",
       "      <th>25</th>\n",
       "      <td>cundinamarca</td>\n",
       "    </tr>\n",
       "    <tr>\n",
       "      <th>27</th>\n",
       "      <td>chocó</td>\n",
       "    </tr>\n",
       "    <tr>\n",
       "      <th>41</th>\n",
       "      <td>huila</td>\n",
       "    </tr>\n",
       "    <tr>\n",
       "      <th>44</th>\n",
       "      <td>la guajira</td>\n",
       "    </tr>\n",
       "    <tr>\n",
       "      <th>47</th>\n",
       "      <td>magdalena</td>\n",
       "    </tr>\n",
       "    <tr>\n",
       "      <th>50</th>\n",
       "      <td>meta</td>\n",
       "    </tr>\n",
       "    <tr>\n",
       "      <th>52</th>\n",
       "      <td>nariño</td>\n",
       "    </tr>\n",
       "    <tr>\n",
       "      <th>54</th>\n",
       "      <td>norte de santander</td>\n",
       "    </tr>\n",
       "    <tr>\n",
       "      <th>63</th>\n",
       "      <td>quindío</td>\n",
       "    </tr>\n",
       "    <tr>\n",
       "      <th>66</th>\n",
       "      <td>risaralda</td>\n",
       "    </tr>\n",
       "    <tr>\n",
       "      <th>68</th>\n",
       "      <td>santander</td>\n",
       "    </tr>\n",
       "    <tr>\n",
       "      <th>70</th>\n",
       "      <td>sucre</td>\n",
       "    </tr>\n",
       "    <tr>\n",
       "      <th>73</th>\n",
       "      <td>tolima</td>\n",
       "    </tr>\n",
       "    <tr>\n",
       "      <th>76</th>\n",
       "      <td>valle del cauca</td>\n",
       "    </tr>\n",
       "    <tr>\n",
       "      <th>81</th>\n",
       "      <td>arauca</td>\n",
       "    </tr>\n",
       "    <tr>\n",
       "      <th>85</th>\n",
       "      <td>casanare</td>\n",
       "    </tr>\n",
       "    <tr>\n",
       "      <th>86</th>\n",
       "      <td>putumayo</td>\n",
       "    </tr>\n",
       "    <tr>\n",
       "      <th>88</th>\n",
       "      <td>archipiélago de san andrés, providencia y sant...</td>\n",
       "    </tr>\n",
       "    <tr>\n",
       "      <th>91</th>\n",
       "      <td>amazonas</td>\n",
       "    </tr>\n",
       "    <tr>\n",
       "      <th>94</th>\n",
       "      <td>guainía</td>\n",
       "    </tr>\n",
       "    <tr>\n",
       "      <th>95</th>\n",
       "      <td>guaviare</td>\n",
       "    </tr>\n",
       "    <tr>\n",
       "      <th>97</th>\n",
       "      <td>vaupés</td>\n",
       "    </tr>\n",
       "    <tr>\n",
       "      <th>99</th>\n",
       "      <td>vichada</td>\n",
       "    </tr>\n",
       "  </tbody>\n",
       "</table>\n",
       "</div>"
      ],
      "text/plain": [
       "                                             departamento\n",
       "ID_DEP                                                   \n",
       "05                                              antioquia\n",
       "08                                              atlántico\n",
       "11                                           bogotá, d.c.\n",
       "13                                                bolívar\n",
       "15                                                 boyacá\n",
       "17                                                 caldas\n",
       "18                                                caquetá\n",
       "19                                                  cauca\n",
       "20                                                  cesar\n",
       "23                                                córdoba\n",
       "25                                           cundinamarca\n",
       "27                                                  chocó\n",
       "41                                                  huila\n",
       "44                                             la guajira\n",
       "47                                              magdalena\n",
       "50                                                   meta\n",
       "52                                                 nariño\n",
       "54                                     norte de santander\n",
       "63                                                quindío\n",
       "66                                              risaralda\n",
       "68                                              santander\n",
       "70                                                  sucre\n",
       "73                                                 tolima\n",
       "76                                        valle del cauca\n",
       "81                                                 arauca\n",
       "85                                               casanare\n",
       "86                                               putumayo\n",
       "88      archipiélago de san andrés, providencia y sant...\n",
       "91                                               amazonas\n",
       "94                                                guainía\n",
       "95                                               guaviare\n",
       "97                                                 vaupés\n",
       "99                                                vichada"
      ]
     },
     "execution_count": 47,
     "metadata": {},
     "output_type": "execute_result"
    }
   ],
   "source": [
    "geo_simple[[\"ID_DEP\",\"departamento\"]].set_index(\"ID_DEP\").drop_duplicates()"
   ]
  },
  {
   "cell_type": "code",
   "execution_count": null,
   "id": "d8163b56-94e5-47c7-b2c6-29a05e715975",
   "metadata": {},
   "outputs": [],
   "source": []
  }
 ],
 "metadata": {
  "kernelspec": {
   "display_name": "Python 3 (ipykernel)",
   "language": "python",
   "name": "python3"
  },
  "language_info": {
   "codemirror_mode": {
    "name": "ipython",
    "version": 3
   },
   "file_extension": ".py",
   "mimetype": "text/x-python",
   "name": "python",
   "nbconvert_exporter": "python",
   "pygments_lexer": "ipython3",
   "version": "3.10.5"
  }
 },
 "nbformat": 4,
 "nbformat_minor": 5
}
