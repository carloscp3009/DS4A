{
 "cells": [
  {
   "cell_type": "code",
   "execution_count": 2,
   "id": "b1929083-e5ff-428c-87c2-897322eaf025",
   "metadata": {},
   "outputs": [],
   "source": [
    "# general \n",
    "import numpy as np\n",
    "import pandas as pd\n",
    "import matplotlib.pyplot as plt\n",
    "\n",
    "# geography \n",
    "import geopandas\n",
    "import plotly.express as px\n",
    "from shapely.ops import unary_union\n",
    "import json\n",
    "\n",
    "# progress\n",
    "from tqdm.notebook import tqdm\n",
    "tqdm.pandas()\n",
    "from IPython.display import HTML"
   ]
  },
  {
   "cell_type": "markdown",
   "id": "159d2644-d64c-4c8a-ba80-733610c04d08",
   "metadata": {},
   "source": [
    "# Data "
   ]
  },
  {
   "cell_type": "markdown",
   "id": "c4ae8db3-bebf-4f6d-ac0c-ecb816b1ccbd",
   "metadata": {},
   "source": [
    "DANE sources:\n",
    "\n",
    "* [GeoJSON download page](https://geoportal.dane.gov.co/servicios/descarga-y-metadatos/visor-descarga-geovisores/)\n",
    "    * [Municipality level polygons](https://geoportal.dane.gov.co/descargas/CNPV2018/Geojson/GeoJsonMGN_ANM_MPIOS.rar)\n",
    "* [geographical listings and metadata](https://www.dane.gov.co/files/geoportal-provisional/)\n",
    "    * [political-administrative division](https://www.dane.gov.co/files/geoportal-provisional/Listados_DIVIPOLA.zip)\n",
    "    \n",
    "Both datasets have to be downloaded manually because of DANE's bot protection policy.\n",
    "\n",
    "This code assumes these files were uncompressed on this folder."
   ]
  },
  {
   "cell_type": "markdown",
   "id": "2b6d2ac3-5aa5-4efd-b109-aca3cc1470e2",
   "metadata": {},
   "source": [
    "## DANE divipola listing (official name and codes), 2022"
   ]
  },
  {
   "cell_type": "code",
   "execution_count": 3,
   "id": "aefebc3e-59e9-4c6e-b459-a72c5bc9707b",
   "metadata": {},
   "outputs": [
    {
     "data": {
      "text/html": [
       "<div>\n",
       "<style scoped>\n",
       "    .dataframe tbody tr th:only-of-type {\n",
       "        vertical-align: middle;\n",
       "    }\n",
       "\n",
       "    .dataframe tbody tr th {\n",
       "        vertical-align: top;\n",
       "    }\n",
       "\n",
       "    .dataframe thead th {\n",
       "        text-align: right;\n",
       "    }\n",
       "</style>\n",
       "<table border=\"1\" class=\"dataframe\">\n",
       "  <thead>\n",
       "    <tr style=\"text-align: right;\">\n",
       "      <th></th>\n",
       "      <th>NOMBRE_DEP</th>\n",
       "      <th>NOMBRE_MUN</th>\n",
       "    </tr>\n",
       "    <tr>\n",
       "      <th>ID</th>\n",
       "      <th></th>\n",
       "      <th></th>\n",
       "    </tr>\n",
       "  </thead>\n",
       "  <tbody>\n",
       "    <tr>\n",
       "      <th>05001</th>\n",
       "      <td>ANTIOQUIA</td>\n",
       "      <td>MEDELLÍN</td>\n",
       "    </tr>\n",
       "    <tr>\n",
       "      <th>05002</th>\n",
       "      <td>ANTIOQUIA</td>\n",
       "      <td>ABEJORRAL</td>\n",
       "    </tr>\n",
       "    <tr>\n",
       "      <th>05004</th>\n",
       "      <td>ANTIOQUIA</td>\n",
       "      <td>ABRIAQUÍ</td>\n",
       "    </tr>\n",
       "    <tr>\n",
       "      <th>05021</th>\n",
       "      <td>ANTIOQUIA</td>\n",
       "      <td>ALEJANDRÍA</td>\n",
       "    </tr>\n",
       "    <tr>\n",
       "      <th>05030</th>\n",
       "      <td>ANTIOQUIA</td>\n",
       "      <td>AMAGÁ</td>\n",
       "    </tr>\n",
       "  </tbody>\n",
       "</table>\n",
       "</div>"
      ],
      "text/plain": [
       "      NOMBRE_DEP  NOMBRE_MUN\n",
       "ID                          \n",
       "05001  ANTIOQUIA    MEDELLÍN\n",
       "05002  ANTIOQUIA   ABEJORRAL\n",
       "05004  ANTIOQUIA    ABRIAQUÍ\n",
       "05021  ANTIOQUIA  ALEJANDRÍA\n",
       "05030  ANTIOQUIA       AMAGÁ"
      ]
     },
     "execution_count": 3,
     "metadata": {},
     "output_type": "execute_result"
    }
   ],
   "source": [
    "xls = pd.ExcelFile(\"CODIFICACION_DIVIPOLA/Listados_DIVIPOLA.xlsx\")\n",
    "DANE = pd.read_excel(xls,\"Municipios\",skiprows=11,dtype=str,header=None)\n",
    "DANE = DANE.loc[:1120]\n",
    "DANE.drop([0,4,5],axis=1,inplace=True)\n",
    "DANE.rename(columns={1:\"NOMBRE_DEP\",2:\"ID\",3:\"NOMBRE_MUN\"},inplace=True)\n",
    "DANE.set_index(\"ID\",inplace=True)\n",
    "DANE.head()"
   ]
  },
  {
   "cell_type": "markdown",
   "id": "6202bae7-6975-4086-8f6d-cdd56eb144fc",
   "metadata": {},
   "source": [
    "## Official geoJSON, 2018"
   ]
  },
  {
   "cell_type": "code",
   "execution_count": 4,
   "id": "d2d5c59f-fbee-47c4-ae82-f76a8b232399",
   "metadata": {},
   "outputs": [],
   "source": [
    "geo = geopandas.read_file(\"GeoJsonMGN_ANM_MPIOS/MGN_ANM_MPIOS.geojson\")"
   ]
  },
  {
   "cell_type": "code",
   "execution_count": 5,
   "id": "49f09b1b-0fb5-409b-b241-16d8d679f141",
   "metadata": {},
   "outputs": [],
   "source": [
    "geo[\"adjacent\"] = \"\"\n",
    "# drop STATS columns\n",
    "geo = geo.drop([col for col in geo.columns if set(\"ST\") <= set(col)],axis=1)\n",
    "# drop unneded shape columns\n",
    "geo = geo.drop([\"VERSION\",\"Shape_Leng\",\"Shape_Area\"],axis=1)\n",
    "\n",
    "geo = geo.rename(columns={\n",
    "    'DPTO_CCDGO':\"ID_DEP\",\n",
    "    'MPIO_CCDGO':\"ID_MUN\",\n",
    "    'MPIO_CNMBR':\"NOMBRE_MUN\",\n",
    "    'MPIO_CDPMP':\"ID\"\n",
    "})\n",
    "\n",
    "geo.set_index(\"ID\",inplace=True)"
   ]
  },
  {
   "cell_type": "code",
   "execution_count": 6,
   "id": "5da80119-d64e-4834-9a05-ad399033ea15",
   "metadata": {},
   "outputs": [
    {
     "data": {
      "text/html": [
       "<div>\n",
       "<style scoped>\n",
       "    .dataframe tbody tr th:only-of-type {\n",
       "        vertical-align: middle;\n",
       "    }\n",
       "\n",
       "    .dataframe tbody tr th {\n",
       "        vertical-align: top;\n",
       "    }\n",
       "\n",
       "    .dataframe thead th {\n",
       "        text-align: right;\n",
       "    }\n",
       "</style>\n",
       "<table border=\"1\" class=\"dataframe\">\n",
       "  <thead>\n",
       "    <tr style=\"text-align: right;\">\n",
       "      <th></th>\n",
       "      <th>ID_DEP</th>\n",
       "      <th>ID_MUN</th>\n",
       "      <th>NOMBRE_MUN</th>\n",
       "      <th>AREA</th>\n",
       "      <th>LATITUD</th>\n",
       "      <th>LONGITUD</th>\n",
       "      <th>geometry</th>\n",
       "      <th>adjacent</th>\n",
       "    </tr>\n",
       "    <tr>\n",
       "      <th>ID</th>\n",
       "      <th></th>\n",
       "      <th></th>\n",
       "      <th></th>\n",
       "      <th></th>\n",
       "      <th></th>\n",
       "      <th></th>\n",
       "      <th></th>\n",
       "      <th></th>\n",
       "    </tr>\n",
       "  </thead>\n",
       "  <tbody>\n",
       "    <tr>\n",
       "      <th>18001</th>\n",
       "      <td>18</td>\n",
       "      <td>001</td>\n",
       "      <td>FLORENCIA</td>\n",
       "      <td>2.547638e+09</td>\n",
       "      <td>1.749139</td>\n",
       "      <td>-75.558239</td>\n",
       "      <td>MULTIPOLYGON (((-75.42074 2.19413, -75.42042 2...</td>\n",
       "      <td></td>\n",
       "    </tr>\n",
       "    <tr>\n",
       "      <th>18029</th>\n",
       "      <td>18</td>\n",
       "      <td>029</td>\n",
       "      <td>ALBANIA</td>\n",
       "      <td>4.141221e+08</td>\n",
       "      <td>1.227865</td>\n",
       "      <td>-75.882327</td>\n",
       "      <td>MULTIPOLYGON (((-75.89506 1.36570, -75.89506 1...</td>\n",
       "      <td></td>\n",
       "    </tr>\n",
       "    <tr>\n",
       "      <th>18094</th>\n",
       "      <td>18</td>\n",
       "      <td>094</td>\n",
       "      <td>BELÉN DE LOS ANDAQUÍES</td>\n",
       "      <td>1.191619e+09</td>\n",
       "      <td>1.500923</td>\n",
       "      <td>-75.875645</td>\n",
       "      <td>MULTIPOLYGON (((-75.78705 1.74982, -75.78715 1...</td>\n",
       "      <td></td>\n",
       "    </tr>\n",
       "    <tr>\n",
       "      <th>18247</th>\n",
       "      <td>18</td>\n",
       "      <td>247</td>\n",
       "      <td>EL DONCELLO</td>\n",
       "      <td>1.106076e+09</td>\n",
       "      <td>1.791386</td>\n",
       "      <td>-75.193944</td>\n",
       "      <td>MULTIPOLYGON (((-75.36167 2.32143, -75.36142 2...</td>\n",
       "      <td></td>\n",
       "    </tr>\n",
       "    <tr>\n",
       "      <th>18256</th>\n",
       "      <td>18</td>\n",
       "      <td>256</td>\n",
       "      <td>EL PAUJÍL</td>\n",
       "      <td>1.234734e+09</td>\n",
       "      <td>1.617746</td>\n",
       "      <td>-75.234043</td>\n",
       "      <td>MULTIPOLYGON (((-75.36638 2.20952, -75.35963 2...</td>\n",
       "      <td></td>\n",
       "    </tr>\n",
       "  </tbody>\n",
       "</table>\n",
       "</div>"
      ],
      "text/plain": [
       "      ID_DEP ID_MUN              NOMBRE_MUN          AREA   LATITUD  \\\n",
       "ID                                                                    \n",
       "18001     18    001               FLORENCIA  2.547638e+09  1.749139   \n",
       "18029     18    029                 ALBANIA  4.141221e+08  1.227865   \n",
       "18094     18    094  BELÉN DE LOS ANDAQUÍES  1.191619e+09  1.500923   \n",
       "18247     18    247             EL DONCELLO  1.106076e+09  1.791386   \n",
       "18256     18    256               EL PAUJÍL  1.234734e+09  1.617746   \n",
       "\n",
       "        LONGITUD                                           geometry adjacent  \n",
       "ID                                                                            \n",
       "18001 -75.558239  MULTIPOLYGON (((-75.42074 2.19413, -75.42042 2...           \n",
       "18029 -75.882327  MULTIPOLYGON (((-75.89506 1.36570, -75.89506 1...           \n",
       "18094 -75.875645  MULTIPOLYGON (((-75.78705 1.74982, -75.78715 1...           \n",
       "18247 -75.193944  MULTIPOLYGON (((-75.36167 2.32143, -75.36142 2...           \n",
       "18256 -75.234043  MULTIPOLYGON (((-75.36638 2.20952, -75.35963 2...           "
      ]
     },
     "execution_count": 6,
     "metadata": {},
     "output_type": "execute_result"
    }
   ],
   "source": [
    "geo.head()"
   ]
  },
  {
   "cell_type": "markdown",
   "id": "1828fdc0-0bd5-4a9e-9fd2-7e019895a548",
   "metadata": {},
   "source": [
    "### Correction (2018->2022)"
   ]
  },
  {
   "cell_type": "markdown",
   "id": "fa66bcc8-90c5-4833-a519-060d3bea28ba",
   "metadata": {},
   "source": [
    "As the geoJSON is older than the listing, there are some discrepancies:"
   ]
  },
  {
   "cell_type": "code",
   "execution_count": 7,
   "id": "abaf05ec-83f0-4315-9b01-03d85cb6b4b2",
   "metadata": {},
   "outputs": [
    {
     "data": {
      "text/plain": [
       "{'94663'}"
      ]
     },
     "execution_count": 7,
     "metadata": {},
     "output_type": "execute_result"
    }
   ],
   "source": [
    "# all IDs in geo that are not in DANE\n",
    "set(geo.index) - set(DANE.index)"
   ]
  },
  {
   "cell_type": "code",
   "execution_count": 8,
   "id": "66cc86df-d17e-474f-b52a-c3146edbc21c",
   "metadata": {},
   "outputs": [
    {
     "data": {
      "text/plain": [
       "set()"
      ]
     },
     "execution_count": 8,
     "metadata": {},
     "output_type": "execute_result"
    }
   ],
   "source": [
    "# all IDs in DANE that are not in geo\n",
    "set(DANE.index) - set(geo.index)"
   ]
  },
  {
   "cell_type": "markdown",
   "id": "8acd5f7a-1bf6-4e10-b55c-e08251ddbfef",
   "metadata": {},
   "source": [
    "The missing one is"
   ]
  },
  {
   "cell_type": "code",
   "execution_count": 9,
   "id": "c292e3e7-51fd-45df-9a91-f29906bbf2f4",
   "metadata": {},
   "outputs": [
    {
     "data": {
      "text/html": [
       "<div>\n",
       "<style scoped>\n",
       "    .dataframe tbody tr th:only-of-type {\n",
       "        vertical-align: middle;\n",
       "    }\n",
       "\n",
       "    .dataframe tbody tr th {\n",
       "        vertical-align: top;\n",
       "    }\n",
       "\n",
       "    .dataframe thead th {\n",
       "        text-align: right;\n",
       "    }\n",
       "</style>\n",
       "<table border=\"1\" class=\"dataframe\">\n",
       "  <thead>\n",
       "    <tr style=\"text-align: right;\">\n",
       "      <th></th>\n",
       "      <th>ID_DEP</th>\n",
       "      <th>ID_MUN</th>\n",
       "      <th>NOMBRE_MUN</th>\n",
       "      <th>AREA</th>\n",
       "      <th>LATITUD</th>\n",
       "      <th>LONGITUD</th>\n",
       "      <th>geometry</th>\n",
       "      <th>adjacent</th>\n",
       "    </tr>\n",
       "    <tr>\n",
       "      <th>ID</th>\n",
       "      <th></th>\n",
       "      <th></th>\n",
       "      <th></th>\n",
       "      <th></th>\n",
       "      <th></th>\n",
       "      <th></th>\n",
       "      <th></th>\n",
       "      <th></th>\n",
       "    </tr>\n",
       "  </thead>\n",
       "  <tbody>\n",
       "    <tr>\n",
       "      <th>94663</th>\n",
       "      <td>94</td>\n",
       "      <td>663</td>\n",
       "      <td>MAPIRIPANA</td>\n",
       "      <td>4.927905e+09</td>\n",
       "      <td>2.808882</td>\n",
       "      <td>-70.269326</td>\n",
       "      <td>MULTIPOLYGON (((-70.10453 3.38436, -70.10219 3...</td>\n",
       "      <td></td>\n",
       "    </tr>\n",
       "  </tbody>\n",
       "</table>\n",
       "</div>"
      ],
      "text/plain": [
       "      ID_DEP ID_MUN  NOMBRE_MUN          AREA   LATITUD   LONGITUD  \\\n",
       "ID                                                                   \n",
       "94663     94    663  MAPIRIPANA  4.927905e+09  2.808882 -70.269326   \n",
       "\n",
       "                                                geometry adjacent  \n",
       "ID                                                                 \n",
       "94663  MULTIPOLYGON (((-70.10453 3.38436, -70.10219 3...           "
      ]
     },
     "execution_count": 9,
     "metadata": {},
     "output_type": "execute_result"
    }
   ],
   "source": [
    "geo.loc[[\"94663\"]]"
   ]
  },
  {
   "cell_type": "markdown",
   "id": "a787d7da-ac57-4d7a-a617-8401d0cddd17",
   "metadata": {},
   "source": [
    "Wich since has merged with `94343`, Barrancominas, Guainía."
   ]
  },
  {
   "cell_type": "code",
   "execution_count": 10,
   "id": "b4ae9b51-8d53-4a1b-a7c6-f83b8479cbcd",
   "metadata": {},
   "outputs": [
    {
     "data": {
      "text/plain": [
       "<AxesSubplot:>"
      ]
     },
     "execution_count": 10,
     "metadata": {},
     "output_type": "execute_result"
    },
    {
     "data": {
      "image/png": "[encoded data removed]",
      "text/plain": [
       "<Figure size 432x288 with 1 Axes>"
      ]
     },
     "metadata": {
      "needs_background": "light"
     },
     "output_type": "display_data"
    }
   ],
   "source": [
    "geo.loc[[\"94663\"]].plot(color='gray')\n",
    "geo.loc[[\"94343\"]].plot(ax=plt.gca())"
   ]
  },
  {
   "cell_type": "code",
   "execution_count": 11,
   "id": "f6edaee1-01b1-4d4d-98a2-0c6a69eb7030",
   "metadata": {},
   "outputs": [
    {
     "data": {
      "text/html": [
       "<div>\n",
       "<style scoped>\n",
       "    .dataframe tbody tr th:only-of-type {\n",
       "        vertical-align: middle;\n",
       "    }\n",
       "\n",
       "    .dataframe tbody tr th {\n",
       "        vertical-align: top;\n",
       "    }\n",
       "\n",
       "    .dataframe thead th {\n",
       "        text-align: right;\n",
       "    }\n",
       "</style>\n",
       "<table border=\"1\" class=\"dataframe\">\n",
       "  <thead>\n",
       "    <tr style=\"text-align: right;\">\n",
       "      <th></th>\n",
       "      <th>ID_DEP</th>\n",
       "      <th>ID_MUN</th>\n",
       "      <th>NOMBRE_MUN</th>\n",
       "      <th>AREA</th>\n",
       "      <th>LATITUD</th>\n",
       "      <th>LONGITUD</th>\n",
       "      <th>geometry</th>\n",
       "      <th>adjacent</th>\n",
       "    </tr>\n",
       "    <tr>\n",
       "      <th>ID</th>\n",
       "      <th></th>\n",
       "      <th></th>\n",
       "      <th></th>\n",
       "      <th></th>\n",
       "      <th></th>\n",
       "      <th></th>\n",
       "      <th></th>\n",
       "      <th></th>\n",
       "    </tr>\n",
       "  </thead>\n",
       "  <tbody>\n",
       "    <tr>\n",
       "      <th>94663</th>\n",
       "      <td>94</td>\n",
       "      <td>663</td>\n",
       "      <td>MAPIRIPANA</td>\n",
       "      <td>4.927905e+09</td>\n",
       "      <td>2.808882</td>\n",
       "      <td>-70.269326</td>\n",
       "      <td>MULTIPOLYGON (((-70.10453 3.38436, -70.10219 3...</td>\n",
       "      <td></td>\n",
       "    </tr>\n",
       "    <tr>\n",
       "      <th>94343</th>\n",
       "      <td>94</td>\n",
       "      <td>343</td>\n",
       "      <td>BARRANCOMINAS</td>\n",
       "      <td>9.467772e+09</td>\n",
       "      <td>3.313508</td>\n",
       "      <td>-69.398770</td>\n",
       "      <td>MULTIPOLYGON (((-68.91332 3.68216, -68.91308 3...</td>\n",
       "      <td></td>\n",
       "    </tr>\n",
       "  </tbody>\n",
       "</table>\n",
       "</div>"
      ],
      "text/plain": [
       "      ID_DEP ID_MUN     NOMBRE_MUN          AREA   LATITUD   LONGITUD  \\\n",
       "ID                                                                      \n",
       "94663     94    663     MAPIRIPANA  4.927905e+09  2.808882 -70.269326   \n",
       "94343     94    343  BARRANCOMINAS  9.467772e+09  3.313508 -69.398770   \n",
       "\n",
       "                                                geometry adjacent  \n",
       "ID                                                                 \n",
       "94663  MULTIPOLYGON (((-70.10453 3.38436, -70.10219 3...           \n",
       "94343  MULTIPOLYGON (((-68.91332 3.68216, -68.91308 3...           "
      ]
     },
     "execution_count": 11,
     "metadata": {},
     "output_type": "execute_result"
    }
   ],
   "source": [
    "geo.loc[[\"94663\",\"94343\"]]"
   ]
  },
  {
   "cell_type": "code",
   "execution_count": 12,
   "id": "f41f6e06-4d62-47c9-99e8-f2bb23425019",
   "metadata": {},
   "outputs": [],
   "source": [
    "geo.at[\"94343\",\"geometry\"] = unary_union(geo.loc[[\"94663\",\"94343\"]].geometry)"
   ]
  },
  {
   "cell_type": "code",
   "execution_count": 13,
   "id": "a350d609-c915-4e57-9cff-67f8f392e6f5",
   "metadata": {},
   "outputs": [],
   "source": [
    "geo.drop(\"94663\",inplace=True)"
   ]
  },
  {
   "cell_type": "code",
   "execution_count": 14,
   "id": "65343469-9ce1-4912-9b94-01bd5d52de53",
   "metadata": {},
   "outputs": [
    {
     "data": {
      "text/plain": [
       "<AxesSubplot:>"
      ]
     },
     "execution_count": 14,
     "metadata": {},
     "output_type": "execute_result"
    },
    {
     "data": {
      "image/png": "[encoded data removed]",
      "text/plain": [
       "<Figure size 432x288 with 1 Axes>"
      ]
     },
     "metadata": {
      "needs_background": "light"
     },
     "output_type": "display_data"
    }
   ],
   "source": [
    "geo.loc[[\"94343\"]].plot()"
   ]
  },
  {
   "cell_type": "markdown",
   "id": "3ec474ab-4b03-4d96-84c8-debd247f99da",
   "metadata": {},
   "source": [
    "The IDs are now complete"
   ]
  },
  {
   "cell_type": "code",
   "execution_count": 15,
   "id": "4c6b8c18-1673-4fa3-bf6d-d074db3988d8",
   "metadata": {},
   "outputs": [
    {
     "data": {
      "text/plain": [
       "True"
      ]
     },
     "execution_count": 15,
     "metadata": {},
     "output_type": "execute_result"
    }
   ],
   "source": [
    "set(geo.index) == set(DANE.index)"
   ]
  },
  {
   "cell_type": "markdown",
   "id": "e3c92bfd-9c58-4311-8157-358aa60c6a2a",
   "metadata": {},
   "source": [
    "### Limiting regions"
   ]
  },
  {
   "cell_type": "code",
   "execution_count": 16,
   "id": "010ea9f4-e9b8-4fca-bac9-82f068d1bb86",
   "metadata": {},
   "outputs": [
    {
     "data": {
      "application/vnd.jupyter.widget-view+json": {
       "model_id": "de7589aca3594fc48139953b7d4801fc",
       "version_major": 2,
       "version_minor": 0
      },
      "text/plain": [
       "  0%|          | 0/1121 [00:00<?, ?it/s]"
      ]
     },
     "metadata": {},
     "output_type": "display_data"
    }
   ],
   "source": [
    "# add all surroinding regions (and itself) to adjacent regions, as a list\n",
    "for i,mun in tqdm(geo.iterrows(),total=len(geo)):\n",
    "    geo.at[i,\"adjacent\"] = [i] + list(\n",
    "        geo[ geo.geometry.touches(mun.geometry) ].index\n",
    "    )"
   ]
  },
  {
   "cell_type": "markdown",
   "id": "5131ef29-21ce-4d57-a600-43f2cefa3b50",
   "metadata": {},
   "source": [
    "An example: the first municipality by code (dark) and all its adjacent regions"
   ]
  },
  {
   "cell_type": "code",
   "execution_count": 17,
   "id": "40677b00-9ded-4270-be94-7d4d57b2f2dc",
   "metadata": {},
   "outputs": [
    {
     "data": {
      "text/plain": [
       "Text(0.5, 1.0, 'MEDELLÍN')"
      ]
     },
     "execution_count": 17,
     "metadata": {},
     "output_type": "execute_result"
    },
    {
     "data": {
      "image/png": "[encoded data removed]",
      "text/plain": [
       "<Figure size 432x288 with 1 Axes>"
      ]
     },
     "metadata": {
      "needs_background": "light"
     },
     "output_type": "display_data"
    }
   ],
   "source": [
    "ad = geo.loc[geo.loc['05001'].adjacent].plot(ax=plt.gca())\n",
    "own = geo.loc[['05001']].plot(ax=plt.gca(),color='k',alpha=0.2)\n",
    "plt.title(geo.loc['05001',\"NOMBRE_MUN\"])"
   ]
  },
  {
   "cell_type": "markdown",
   "id": "4962a423-a959-4c95-b3d5-a3abb1980bcf",
   "metadata": {},
   "source": [
    "With this we can construct an adjacent municipalities dictionary, that maps every municipality code to a list with the codes of its limiting municipality (and itself)"
   ]
  },
  {
   "cell_type": "code",
   "execution_count": 18,
   "id": "f32ac8cb-9734-4972-bc4c-26b39bd61345",
   "metadata": {
    "tags": []
   },
   "outputs": [],
   "source": [
    "adjacent_mun = geo.adjacent.to_dict()\n",
    "with open(\"adjacent_municipalities.json\",\"w\") as file:\n",
    "    json.dump(adjacent_mun,file)"
   ]
  },
  {
   "cell_type": "markdown",
   "id": "0e922306-2f7d-4428-b3a0-cab10e7733f9",
   "metadata": {},
   "source": [
    "But we actually want to know, for a given department, all its (outer) limiting municipalities, and also its own municipalities. That way we can search for a department confusion only in the border."
   ]
  },
  {
   "cell_type": "code",
   "execution_count": 19,
   "id": "37ba6b8b-994e-4398-8b0f-f9a05fac3846",
   "metadata": {},
   "outputs": [],
   "source": [
    "limit_and_self_mun = geo.groupby(\"ID_DEP\").adjacent\\\n",
    "    .apply(lambda x: sum(x,[]))\\\n",
    "    .apply(set)\\\n",
    "    .apply(list)\\\n",
    "    .apply(sorted)\\\n",
    "    .to_dict()"
   ]
  },
  {
   "cell_type": "code",
   "execution_count": 20,
   "id": "0f74e961-557a-4810-9564-0179bb0d1f2b",
   "metadata": {},
   "outputs": [],
   "source": [
    "with open(\"limit_and_self_municipalities.json\",\"w\") as file:\n",
    "    json.dump(limit_and_self_mun,file)"
   ]
  },
  {
   "cell_type": "markdown",
   "id": "ef1e2142-e962-40cd-8911-fd980c7cfb7c",
   "metadata": {},
   "source": [
    "# GeoJSON Reduction"
   ]
  },
  {
   "cell_type": "markdown",
   "id": "0b6c09ab-d301-40a3-8781-e1d86626366c",
   "metadata": {},
   "source": [
    "Without reducing the geographical data from DANE, plotting would be impossible. The geojson's polygons for the municipality level has an incredible amount of detail.\n",
    "\n",
    "For the reduction we use the [geopandas simplify function](https://geopandas.org/en/stable/docs/reference/api/geopandas.GeoSeries.simplify.html):"
   ]
  },
  {
   "cell_type": "code",
   "execution_count": 21,
   "id": "3555a538-6fb5-4a0c-b05b-9210cb45bf1a",
   "metadata": {},
   "outputs": [
    {
     "name": "stdout",
     "output_type": "stream",
     "text": [
      "CPU times: user 7.47 s, sys: 0 ns, total: 7.47 s\n",
      "Wall time: 7.5 s\n"
     ]
    }
   ],
   "source": [
    "geo_simple = geo.copy()\n",
    "%time geo_simple.geometry = geo.geometry.simplify(0.01)"
   ]
  },
  {
   "cell_type": "markdown",
   "id": "ba98216a-cc0b-4872-889d-6159d6bfad88",
   "metadata": {},
   "source": [
    "We have reduced the amount of data by two orders of magnitude:"
   ]
  },
  {
   "cell_type": "code",
   "execution_count": 22,
   "id": "5e60fa12-057f-4664-96b5-50a39f15f447",
   "metadata": {},
   "outputs": [
    {
     "data": {
      "image/png": "[encoded data removed]",
      "text/plain": [
       "<Figure size 600x400 with 1 Axes>"
      ]
     },
     "metadata": {
      "needs_background": "light"
     },
     "output_type": "display_data"
    }
   ],
   "source": [
    "plt.figure(dpi=100)\n",
    "geo.geometry.sample(300).apply(str).apply(len).hist(bins=np.logspace(4,6,20),ax=plt.gca(),label=\"raw\")\n",
    "geo_simple.geometry.sample(300).apply(str).apply(len).hist(bins=np.logspace(2,5,20),ax=plt.gca(),label=\"simplified\")\n",
    "plt.xscale(\"log\")\n",
    "plt.legend()\n",
    "plt.xlabel(\"amount of characters per polygon\")\n",
    "plt.grid(False);"
   ]
  },
  {
   "cell_type": "code",
   "execution_count": 23,
   "id": "0c296353-972e-42d4-a4d1-e74c1bc152af",
   "metadata": {},
   "outputs": [],
   "source": [
    "geo_simple = pd.concat([DANE.NOMBRE_DEP,geo_simple],axis=1)[[\n",
    "    \"ID_DEP\",\"NOMBRE_DEP\",\n",
    "    \"ID_MUN\",\"NOMBRE_MUN\",\n",
    "    \"LATITUD\",\"LONGITUD\",\n",
    "    \"adjacent\",\"AREA\",\"geometry\"\n",
    "]]"
   ]
  },
  {
   "cell_type": "code",
   "execution_count": 24,
   "id": "c97d5f19-f06b-477a-831f-7d5b0e764f43",
   "metadata": {},
   "outputs": [],
   "source": [
    "with open(\"Municipios_Colombia.geojson\",\"w\") as file:\n",
    "    file.write(geo_simple.to_json(drop_id=False))"
   ]
  },
  {
   "cell_type": "markdown",
   "id": "480da8f1-f0e1-4423-a656-2141359d9312",
   "metadata": {},
   "source": [
    "# Finally"
   ]
  },
  {
   "cell_type": "markdown",
   "id": "ea8f3b4b-20aa-4838-b19e-fbc84ee08c1c",
   "metadata": {},
   "source": [
    "We have dictionaries describing the adjacent municipalities for every municipality and department.\n",
    "\n",
    "This will allow us to search for a missing municipality name on both the department that is reported an in the limiting municipalities outside the given department.\n",
    "\n",
    "For example, if the reported department is Cauca, we would search on:"
   ]
  },
  {
   "cell_type": "code",
   "execution_count": 31,
   "id": "a3126b84-cc09-462e-9e4d-ae608da98078",
   "metadata": {},
   "outputs": [
    {
     "data": {
      "text/plain": [
       "array(['19'], dtype=object)"
      ]
     },
     "execution_count": 31,
     "metadata": {},
     "output_type": "execute_result"
    }
   ],
   "source": [
    "geo_simple.query(\"NOMBRE_DEP == 'CAUCA'\").ID_DEP.unique()"
   ]
  },
  {
   "cell_type": "code",
   "execution_count": 32,
   "id": "5a94fc19-4c21-4707-8193-9d6098a658ff",
   "metadata": {},
   "outputs": [],
   "source": [
    "dep = '19'\n",
    "subset = geo.query(\"ID_DEP == @dep\")"
   ]
  },
  {
   "cell_type": "code",
   "execution_count": 33,
   "id": "ad1c2aa3-9930-487d-88d4-902a8a031c69",
   "metadata": {},
   "outputs": [
    {
     "data": {
      "text/plain": [
       "<AxesSubplot:>"
      ]
     },
     "execution_count": 33,
     "metadata": {},
     "output_type": "execute_result"
    },
    {
     "data": {
      "image/png": "[encoded data removed]",
      "text/plain": [
       "<Figure size 720x720 with 1 Axes>"
      ]
     },
     "metadata": {
      "needs_background": "light"
     },
     "output_type": "display_data"
    }
   ],
   "source": [
    "plt.figure(figsize=(10,10))\n",
    "geo.loc[limit_and_self_mun[dep]].plot(ax=plt.gca())\n",
    "subset.geometry.plot(ax=plt.gca(),color='k',alpha=0.6)"
   ]
  },
  {
   "cell_type": "markdown",
   "id": "2f0f9646-51bc-4943-a96b-b490aedf06d1",
   "metadata": {},
   "source": [
    "Where the municipalities of Cauca are in dark blue, and the limiting ones in blue"
   ]
  },
  {
   "cell_type": "code",
   "execution_count": null,
   "id": "2a680c67-b5e6-4fbf-b0fd-8e9ec11670bd",
   "metadata": {},
   "outputs": [],
   "source": []
  }
 ],
 "metadata": {
  "kernelspec": {
   "display_name": "Python 3 (ipykernel)",
   "language": "python",
   "name": "python3"
  },
  "language_info": {
   "codemirror_mode": {
    "name": "ipython",
    "version": 3
   },
   "file_extension": ".py",
   "mimetype": "text/x-python",
   "name": "python",
   "nbconvert_exporter": "python",
   "pygments_lexer": "ipython3",
   "version": "3.10.5"
  }
 },
 "nbformat": 4,
 "nbformat_minor": 5
}
