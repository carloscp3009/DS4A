{
 "cells": [
  {
   "cell_type": "code",
   "execution_count": 1,
   "id": "4d29fe3a",
   "metadata": {},
   "outputs": [],
   "source": [
    "import pandas as pd"
   ]
  },
  {
   "cell_type": "code",
   "execution_count": 2,
   "id": "644898c5",
   "metadata": {},
   "outputs": [],
   "source": [
    "df = pd.read_csv('data/estaciones_original.csv')"
   ]
  },
  {
   "cell_type": "code",
   "execution_count": 3,
   "id": "51c86860",
   "metadata": {},
   "outputs": [],
   "source": [
    "oDict = {\n",
    "    'Codigo': 'codigo', \n",
    "    'Nombre': 'nombre',\n",
    "    'Categoria': 'categoria', \n",
    "    'Tecnologia': 'tecnologia',\n",
    "    'Estado': 'estado',\n",
    "    'Departamento': 'departamento',\n",
    "    'Municipio': 'municipio',\n",
    "    'Ubicación': 'ubicacion',\n",
    "    'Altitud': 'altitud',\n",
    "    'Fecha_instalacion': 'fecha_instalacion',\n",
    "    'Fecha_suspension': 'fecha_suspension',\n",
    "    'Area Operativa': 'area_operativa',\n",
    "    'Corriente': 'corriente',\n",
    "    'Area Hidrografica': 'area_hidrografica',\n",
    "    'Zona Hidrografica': 'zona_hidrografica',\n",
    "    'Subzona hidrografica': 'subzona_hidrografica',\n",
    "    'Entidad': 'entidad'\n",
    "}\n",
    "df.rename(columns=oDict, inplace=True)"
   ]
  },
  {
   "cell_type": "code",
   "execution_count": 9,
   "id": "ff6e1116",
   "metadata": {},
   "outputs": [],
   "source": [
    "df[['departamento', 'municipio', 'ubicacion', 'altitud']].to_csv('data/estaciones_preprocesado.csv', index=False)"
   ]
  }
 ],
 "metadata": {
  "kernelspec": {
   "display_name": "Python 3.8.10 64-bit",
   "language": "python",
   "name": "python3"
  },
  "language_info": {
   "codemirror_mode": {
    "name": "ipython",
    "version": 3
   },
   "file_extension": ".py",
   "mimetype": "text/x-python",
   "name": "python",
   "nbconvert_exporter": "python",
   "pygments_lexer": "ipython3",
   "version": "3.8.10"
  },
  "vscode": {
   "interpreter": {
    "hash": "4d190bbdecbc6c6f6743870a5150ac7f1d9df381e01a0ffd3b70e7c4c875f407"
   }
  }
 },
 "nbformat": 4,
 "nbformat_minor": 5
}
