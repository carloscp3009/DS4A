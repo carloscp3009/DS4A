{
 "cells": [
  {
   "cell_type": "markdown",
   "id": "16bc1c76",
   "metadata": {},
   "source": [
    "# Preprocesamiento de los datos - Análisis de suelos\n"
   ]
  },
  {
   "cell_type": "markdown",
   "id": "22fce74d",
   "metadata": {},
   "source": [
    "## Importaciones"
   ]
  },
  {
   "cell_type": "code",
   "execution_count": 127,
   "id": "3c0e2384",
   "metadata": {},
   "outputs": [],
   "source": [
    "import numpy as np\n",
    "import pandas as pd\n",
    "import sqlite3"
   ]
  },
  {
   "cell_type": "markdown",
   "id": "30d6ef88",
   "metadata": {},
   "source": [
    "## Funciones"
   ]
  },
  {
   "cell_type": "code",
   "execution_count": 128,
   "id": "9493b4fa",
   "metadata": {},
   "outputs": [],
   "source": [
    "def clean_float_values(value):\n",
    "    '''Limpia valores en columnas float\n",
    "    \n",
    "    Procesa valores string realizando las siguientes acciones:\n",
    "      - Reemplaza ',' por '.'\n",
    "      - Reemplaza '..' por '.'\n",
    "      - Elimina el signo '>' dejando el límite superior como valor actual\n",
    "      - Reemplaza los límites inferiores por la mitad de su valor\n",
    "      - Reemplaza valores inválidos por NaN\n",
    "    '''\n",
    "    if type(value) != str:\n",
    "        return value\n",
    "    \n",
    "    value = value.replace(',', '.')\n",
    "    value = value.replace('..', '.')\n",
    "    value = value.replace('>', '')\n",
    "    \n",
    "    if value[0] == '<':\n",
    "        value = float((value[1:]).strip()) / 2        \n",
    "    else:\n",
    "        try:\n",
    "            float(value)\n",
    "        except Exception as e:\n",
    "            if value in rares.keys():\n",
    "                rares[value] += 1\n",
    "            else:\n",
    "                rares[value] = 1\n",
    "            value = 'NaN'\n",
    "    return value"
   ]
  },
  {
   "cell_type": "code",
   "execution_count": 129,
   "id": "db18b2e1",
   "metadata": {},
   "outputs": [],
   "source": [
    "def clean_string_values(value):\n",
    "    value = value.replace(' ', '_')\n",
    "    value = value.replace('__', '_')\n",
    "    return value"
   ]
  },
  {
   "cell_type": "code",
   "execution_count": 130,
   "id": "28217c43",
   "metadata": {},
   "outputs": [],
   "source": [
    "\n",
    "def get_db():\n",
    "    DB_CONNECTION = sqlite3.connect('data/database.db')\n",
    "    DB_CURSOR = DB_CONNECTION.cursor()\n",
    "    return DB_CONNECTION, DB_CURSOR"
   ]
  },
  {
   "cell_type": "code",
   "execution_count": 131,
   "id": "ba43be6b",
   "metadata": {},
   "outputs": [],
   "source": [
    "def replace_accented_chars(s):\n",
    "    replacements = {\n",
    "        'á': 'a', 'é': 'e', 'í': 'i', 'ó': 'o', 'ú': 'u', \n",
    "        'Á': 'A', 'É': 'E', 'Í': 'I', 'Ó': 'O', 'Ú': 'U',\n",
    "        'Ä': 'A', 'Ë': 'E', 'Ï': 'I', 'Ö': 'O', 'Ü': 'U',\n",
    "        'ä': 'a', 'ë': 'e', 'ï': 'i', 'ö': 'o', 'ü': 'u',\n",
    "        'ñ': 'n', 'Ñ': 'N', ',': ''}\n",
    "    for k, v in replacements.items():\n",
    "        s = s.replace(k, v) \n",
    "    return s"
   ]
  },
  {
   "cell_type": "markdown",
   "id": "d50c0cf5",
   "metadata": {},
   "source": [
    "## Dataset: Análisis de suelos"
   ]
  },
  {
   "cell_type": "markdown",
   "id": "84c80e9e",
   "metadata": {},
   "source": [
    "### Carga de los datos"
   ]
  },
  {
   "cell_type": "code",
   "execution_count": 132,
   "id": "a59cef82",
   "metadata": {},
   "outputs": [
    {
     "name": "stderr",
     "output_type": "stream",
     "text": [
      "C:\\Users\\Islandi Navarro\\AppData\\Local\\Temp\\ipykernel_5040\\1093822172.py:1: DtypeWarning: Columns (14) have mixed types. Specify dtype option on import or set low_memory=False.\n",
      "  df_analisis = pd.read_csv('data/suelos_original.csv')\n"
     ]
    }
   ],
   "source": [
    "df_analisis = pd.read_csv('data/suelos_original.csv')"
   ]
  },
  {
   "cell_type": "markdown",
   "id": "f742bc94",
   "metadata": {},
   "source": [
    "### Tratamiento"
   ]
  },
  {
   "cell_type": "markdown",
   "id": "890d0739",
   "metadata": {},
   "source": [
    "#### Renombrar columnas"
   ]
  },
  {
   "cell_type": "code",
   "execution_count": 133,
   "id": "e261c93b",
   "metadata": {},
   "outputs": [],
   "source": [
    "oDict = {\n",
    "    'numfila': 'id',\n",
    "    'Departamento': 'departamento',\n",
    "    'Municipio': 'municipio',\n",
    "    'Cultivo': 'cultivo',\n",
    "    'Estado': 'estado',\n",
    "    'Tiempo Establecimiento': 'tiempo_establecimiento',\n",
    "    'Topografia': 'topografia',\n",
    "    'Drenaje': 'drenaje',\n",
    "    'Riego': 'riego',\n",
    "    'Fertilizantes aplicados': 'fertilizantes',\n",
    "    'FechaAnalisis': 'fecha',\n",
    "    'pH agua:suelo 2,5:1,0': 'ph',\n",
    "    'Materia orgánica (MO) %': 'materia_organica',\n",
    "    'Fósforo (P) Bray II mg/kg': 'fosforo',\n",
    "    'Azufre (S) Fosfato monocalcico mg/kg': 'azufre',\n",
    "    'Acidez (Al+H) KCL cmol(+)/kg': 'acidez',\n",
    "    'Aluminio (Al) intercambiable cmol(+)/kg': 'aluminio',\n",
    "    'Calcio (Ca) intercambiable cmol(+)/kg': 'calcio',\n",
    "    'Magnesio (Mg) intercambiable cmol(+)/kg': 'magnesio',\n",
    "    'Potasio (K) intercambiable cmol(+)/kg': 'potasio',\n",
    "    'Sodio (Na) intercambiable cmol(+)/kg': 'sodio',\n",
    "    'capacidad de intercambio cationico (CICE) suma de bases cmol(+)/kg': 'cice',\n",
    "    'Conductividad el‚ctrica (CE) relacion 2,5:1,0 dS/m': 'ce',\n",
    "    'Hierro (Fe) disponible olsen mg/kg': 'hierro_olsen',\n",
    "    'Cobre (Cu) disponible mg/kg': 'cobre',\n",
    "    'Manganeso (Mn) disponible Olsen mg/kg': 'manganeso',\n",
    "    'Zinc (Zn) disponible Olsen mg/kg': 'zinc_olsen',\n",
    "    'Boro (B) disponible mg/kg': 'boro',\n",
    "    'Hierro (Fe) disponible doble \\xa0cido mg/kg': 'hierro_doble_acido',\n",
    "    'Cobre (Cu) disponible doble acido mg/kg': 'cobre_doble_acido',\n",
    "    'Manganeso (Mn) disponible doble acido mg/kg': 'manganeso_doble_acido',\n",
    "    'Zinc (Zn) disponible doble \\xa0cido mg/kg': 'zinc_doble_acido', \n",
    "    'Secuencial': 'secuencial'\n",
    "}\n",
    "df_analisis.rename(columns=oDict, inplace=True)"
   ]
  },
  {
   "cell_type": "markdown",
   "id": "a348601a",
   "metadata": {},
   "source": [
    "#### Eliminar columnas sin valores"
   ]
  },
  {
   "cell_type": "code",
   "execution_count": 134,
   "id": "9c8dbb4b",
   "metadata": {},
   "outputs": [],
   "source": [
    "df_analisis.drop(columns=['secuencial', 'fecha'], inplace=True)"
   ]
  },
  {
   "cell_type": "markdown",
   "id": "c77255a0",
   "metadata": {},
   "source": [
    "#### Formato de valores en columnas"
   ]
  },
  {
   "cell_type": "code",
   "execution_count": 135,
   "id": "f3c98158",
   "metadata": {},
   "outputs": [],
   "source": [
    "# Cambiar los valores string a minúsculas\n",
    "columnas = [\n",
    "    'departamento', 'municipio', 'cultivo', 'estado', 'tiempo_establecimiento', \n",
    "    'topografia', 'drenaje', 'riego', 'fertilizantes'\n",
    "]\n",
    "for columna in columnas:\n",
    "    df_analisis[columna] = df_analisis[columna].str.lower()"
   ]
  },
  {
   "cell_type": "markdown",
   "id": "c0e8db3f",
   "metadata": {},
   "source": [
    "#### Corrección de valores float"
   ]
  },
  {
   "cell_type": "code",
   "execution_count": 136,
   "id": "6ba07e15",
   "metadata": {},
   "outputs": [
    {
     "name": "stdout",
     "output_type": "stream",
     "text": [
      "Valores problemáticos convertidos a NaN:\n",
      " {'MI': 2, 'ND': 235138}\n"
     ]
    }
   ],
   "source": [
    "rares = {}\n",
    "\n",
    "# Limpieza de carácteres no numéricos y conversión de valores numéricos a float\n",
    "columnas = [\n",
    "    'ph', 'fosforo', 'azufre', 'acidez', 'aluminio', \n",
    "    'calcio', 'magnesio', 'potasio', 'sodio', 'ce', 'hierro_olsen', \n",
    "    'cobre', 'manganeso', 'zinc_olsen', 'boro', 'hierro_doble_acido',\n",
    "    'cobre_doble_acido', 'manganeso_doble_acido', 'zinc_doble_acido'\n",
    "]\n",
    "\n",
    "for columna in columnas:\n",
    "    try:\n",
    "        df_analisis[columna] = df_analisis[columna].apply(clean_float_values)\n",
    "        df_analisis[columna] = df_analisis[columna].astype(float)\n",
    "    except Exception as e:\n",
    "        print(str(e))\n",
    "if len(rares):\n",
    "    print(\"Valores problemáticos convertidos a NaN:\\n\", rares)"
   ]
  },
  {
   "cell_type": "markdown",
   "id": "14f81290",
   "metadata": {},
   "source": [
    "#### Corrección de valores string"
   ]
  },
  {
   "cell_type": "code",
   "execution_count": 137,
   "id": "c651bb93",
   "metadata": {},
   "outputs": [],
   "source": [
    "df_analisis[\"topografia\"] = df_analisis[\"topografia\"].str.replace(\n",
    "    \"error: #n/a\", \"no indica\")\n",
    "\n",
    "oDict = {\n",
    "    'error: #n/a': \"no indica\",\n",
    "    'buen drenaje': 'bueno',\n",
    "    'regular drenaje': 'regular',\n",
    "    'mal drenaje': 'malo'\n",
    "}\n",
    "df_analisis[\"drenaje\"].replace(oDict, inplace=True)"
   ]
  },
  {
   "cell_type": "code",
   "execution_count": 138,
   "id": "6ba07e15",
   "metadata": {},
   "outputs": [],
   "source": [
    "columnas = [\n",
    "    'municipio', 'departamento', 'estado', 'tiempo_establecimiento', \n",
    "    'topografia', 'drenaje', 'riego']\n",
    "\n",
    "for columna in columnas:\n",
    "    try:\n",
    "        df_analisis[columna] = df_analisis[columna].apply(clean_string_values)\n",
    "    except Exception as e:\n",
    "        print(columna, str(e))"
   ]
  },
  {
   "cell_type": "code",
   "execution_count": 139,
   "id": "7afa9863",
   "metadata": {},
   "outputs": [],
   "source": [
    "df_analisis['departamento'] = \\\n",
    "    df_analisis['departamento'].apply(replace_accented_chars)\n",
    "df_analisis['municipio'] = \\\n",
    "    df_analisis['municipio'].apply(replace_accented_chars)"
   ]
  },
  {
   "cell_type": "code",
   "execution_count": 145,
   "id": "0103f55b",
   "metadata": {},
   "outputs": [],
   "source": [
    "_replaces = {\n",
    "    'armero_guayabal': 'armero',\n",
    "    'cuaspud_carlosama': 'cuaspud',\n",
    "    'cucuta': 'san_jose_de_cucuta',\n",
    "    'guican': 'guican_de_la_sierra',\n",
    "    'mompos': 'santa_cruz_de_mompox',\n",
    "    'san_luis_de_cubarral': 'cubarral',\n",
    "    'tolu_viejo': 'toluviejo'}\n",
    "df_analisis['municipio'] = df_analisis['municipio'].replace(_replaces)"
   ]
  },
  {
   "cell_type": "markdown",
   "id": "a7f8a37e",
   "metadata": {},
   "source": [
    "---"
   ]
  },
  {
   "cell_type": "markdown",
   "id": "49570479",
   "metadata": {},
   "source": [
    "#### Eliminación de registros\n"
   ]
  },
  {
   "cell_type": "markdown",
   "id": "bb198e12",
   "metadata": {},
   "source": [
    "Esta operación es discutible ya que esos registros pueden servir para la detección de anomalías aunque no sirvan para el modelo de predicción\n",
    "```python\n",
    "indices = df_analisis[\n",
    "    (df_analisis[\"cultivo\"] == \"no indica\") & \n",
    "    (df_analisis[\"estado\"] == \"no indica\") & \n",
    "    (df_analisis[\"tiempo_establecimiento\"] == \"no indica\")].index\n",
    "df_analisis.drop(index=indices, axis=0, inplace=True)\n",
    "```"
   ]
  },
  {
   "cell_type": "code",
   "execution_count": 141,
   "id": "230666bc",
   "metadata": {},
   "outputs": [],
   "source": [
    "# Eliminar las filas con el valor borrar en la columna municipio\n",
    "df_analisis = df_analisis[df_analisis['municipio'] != 'borrar']"
   ]
  },
  {
   "cell_type": "markdown",
   "id": "d9214b9d",
   "metadata": {},
   "source": [
    "#### Columnas categorizadas"
   ]
  },
  {
   "cell_type": "code",
   "execution_count": 142,
   "id": "da5f4ed5",
   "metadata": {},
   "outputs": [],
   "source": [
    "# Crear columnas dummy a partir de la columna topografia\n",
    "columnas = [\n",
    "    'estado', 'tiempo_establecimiento', 'topografia', 'drenaje', 'riego']\n",
    "\n",
    "for columna in columnas:\n",
    "    df_analisis = pd.get_dummies(df_analisis, columns=[columna])\n",
    "\n",
    "# Ajustar la dummificación de las columnas compuestas\n",
    "columnas = {\n",
    "    'topografia_ondulado_y_pendiente' : ['topografia_ondulado', 'topografia_pendiente'],\n",
    "    'topografia_plano_y_ondulado' : ['topografia_plano', 'topografia_ondulado'],\n",
    "    'topografia_plano_y_pendiente' : ['topografia_plano', 'topografia_pendiente'],\n",
    "    'riego_aspersión_y_goteo': ['riego_aspersión', 'riego_goteo'],\n",
    "    'riego_aspersión_y_gravedad': ['riego_aspersión', 'riego_gravedad'],\n",
    "    'riego_goteo_y_gravedad': ['riego_goteo', 'riego_gravedad'],\n",
    "}\n",
    "for key, value in columnas.items():\n",
    "    indices = df_analisis[(df_analisis[key] == 1)].index\n",
    "    df_analisis.loc[indices, value[0]] = 1\n",
    "    df_analisis.loc[indices, value[1]] = 1\n",
    "    df_analisis.drop(columns=[key], inplace=True)"
   ]
  },
  {
   "cell_type": "markdown",
   "id": "a87a10f5",
   "metadata": {},
   "source": [
    "#### Completar columnas faltantes"
   ]
  },
  {
   "cell_type": "code",
   "execution_count": 146,
   "id": "02a1f180",
   "metadata": {},
   "outputs": [],
   "source": [
    "DB_CONNECTION, DB_CURSOR = get_db()\n",
    "\n",
    "try:\n",
    "    query = \"DELETE FROM analisis\"\n",
    "    DB_CURSOR.execute(query)\n",
    "    df_analisis.to_sql(\n",
    "        'analisis', DB_CONNECTION, if_exists='append', index=False)\n",
    "\n",
    "    query = '''\n",
    "        UPDATE analisis \n",
    "        SET cod_departamento = departamentos.codigo \n",
    "        FROM departamentos\n",
    "        WHERE analisis.departamento = departamentos.clean '''\n",
    "    DB_CURSOR.execute(query)\n",
    "\n",
    "    query = '''\n",
    "        UPDATE analisis \n",
    "        SET cod_municipio = municipios.codigo \n",
    "        FROM municipios\n",
    "        WHERE analisis.municipio = municipios.clean '''\n",
    "    DB_CURSOR.execute(query)\n",
    "\n",
    "    DB_CONNECTION.commit()\n",
    "    DB_CONNECTION.close()\n",
    "except Exception as e:\n",
    "    print(e)\n",
    "    DB_CONNECTION.close()"
   ]
  },
  {
   "cell_type": "markdown",
   "id": "b8df01a5",
   "metadata": {},
   "source": [
    "### Exportar conjunto de datos"
   ]
  },
  {
   "cell_type": "code",
   "execution_count": null,
   "id": "6ae27e97",
   "metadata": {},
   "outputs": [],
   "source": [
    "df_analisis.to_csv('data/estaciones_preprocesado.csv', index=False)"
   ]
  },
  {
   "cell_type": "markdown",
   "id": "68ecdab4",
   "metadata": {},
   "source": [
    "## Dataset: Estaciones metereológicas"
   ]
  },
  {
   "cell_type": "markdown",
   "id": "43d28d47",
   "metadata": {},
   "source": [
    "### Carga de los datos"
   ]
  },
  {
   "cell_type": "code",
   "execution_count": 62,
   "id": "84a8f939",
   "metadata": {},
   "outputs": [],
   "source": [
    "df_estaciones = pd.read_csv('data/estaciones_original.csv')"
   ]
  },
  {
   "cell_type": "markdown",
   "id": "88f39cea",
   "metadata": {},
   "source": [
    "### Tratamiento"
   ]
  },
  {
   "cell_type": "markdown",
   "id": "9d90ed01",
   "metadata": {},
   "source": [
    "#### Renombrar columnas"
   ]
  },
  {
   "cell_type": "code",
   "execution_count": 63,
   "id": "51c86860",
   "metadata": {},
   "outputs": [],
   "source": [
    "oDict = {\n",
    "    'Codigo': 'codigo', \n",
    "    'Nombre': 'nombre',\n",
    "    'Categoria': 'categoria', \n",
    "    'Tecnologia': 'tecnologia',\n",
    "    'Estado': 'estado',\n",
    "    'Departamento': 'departamento',\n",
    "    'Municipio': 'municipio',\n",
    "    'Ubicación': 'ubicacion',\n",
    "    'Altitud': 'altitud',\n",
    "    'Fecha_instalacion': 'fecha_instalacion',\n",
    "    'Fecha_suspension': 'fecha_suspension',\n",
    "    'Area Operativa': 'area_operativa',\n",
    "    'Corriente': 'corriente',\n",
    "    'Area Hidrografica': 'area_hidrografica',\n",
    "    'Zona Hidrografica': 'zona_hidrografica',\n",
    "    'Subzona hidrografica': 'subzona_hidrografica',\n",
    "    'Entidad': 'entidad'\n",
    "}\n",
    "df_estaciones.rename(columns=oDict, inplace=True)"
   ]
  },
  {
   "cell_type": "markdown",
   "id": "1cbbbc98",
   "metadata": {},
   "source": [
    "#### Filtrar columnas requeridas"
   ]
  },
  {
   "cell_type": "code",
   "execution_count": 64,
   "id": "ff6e1116",
   "metadata": {},
   "outputs": [
    {
     "data": {
      "text/html": [
       "<div>\n",
       "<style scoped>\n",
       "    .dataframe tbody tr th:only-of-type {\n",
       "        vertical-align: middle;\n",
       "    }\n",
       "\n",
       "    .dataframe tbody tr th {\n",
       "        vertical-align: top;\n",
       "    }\n",
       "\n",
       "    .dataframe thead th {\n",
       "        text-align: right;\n",
       "    }\n",
       "</style>\n",
       "<table border=\"1\" class=\"dataframe\">\n",
       "  <thead>\n",
       "    <tr style=\"text-align: right;\">\n",
       "      <th></th>\n",
       "      <th>departamento</th>\n",
       "      <th>municipio</th>\n",
       "      <th>ubicacion</th>\n",
       "      <th>altitud</th>\n",
       "    </tr>\n",
       "  </thead>\n",
       "  <tbody>\n",
       "    <tr>\n",
       "      <th>0</th>\n",
       "      <td>Nariño</td>\n",
       "      <td>Ipiales</td>\n",
       "      <td>(0.81378611, -77.66197778)</td>\n",
       "      <td>2582</td>\n",
       "    </tr>\n",
       "    <tr>\n",
       "      <th>1</th>\n",
       "      <td>Nariño</td>\n",
       "      <td>Contadero</td>\n",
       "      <td>(0.93030556, -77.49119444)</td>\n",
       "      <td>2450</td>\n",
       "    </tr>\n",
       "    <tr>\n",
       "      <th>2</th>\n",
       "      <td>Nariño</td>\n",
       "      <td>Túquerres</td>\n",
       "      <td>(1.07061111, -77.63688889)</td>\n",
       "      <td>3120</td>\n",
       "    </tr>\n",
       "  </tbody>\n",
       "</table>\n",
       "</div>"
      ],
      "text/plain": [
       "  departamento  municipio                   ubicacion  altitud\n",
       "0       Nariño    Ipiales  (0.81378611, -77.66197778)     2582\n",
       "1       Nariño  Contadero  (0.93030556, -77.49119444)     2450\n",
       "2       Nariño  Túquerres  (1.07061111, -77.63688889)     3120"
      ]
     },
     "execution_count": 64,
     "metadata": {},
     "output_type": "execute_result"
    }
   ],
   "source": [
    "df_estaciones = df_estaciones[\n",
    "    ['departamento', 'municipio', 'ubicacion', 'altitud']]"
   ]
  },
  {
   "cell_type": "markdown",
   "id": "4805e440",
   "metadata": {},
   "source": [
    "#### Formato de valores en columnas"
   ]
  },
  {
   "cell_type": "code",
   "execution_count": 65,
   "id": "058eb275",
   "metadata": {},
   "outputs": [],
   "source": [
    "# Cambiar los valores string a minúsculas\n",
    "columnas = ['departamento', 'municipio']\n",
    "for columna in columnas:\n",
    "    df_estaciones[columna] = df_analisis[columna].str.lower()\n",
    "\n",
    "df_estaciones['departamento'] = \\\n",
    "    df_estaciones['departamento'].apply(clean_string_values)\n",
    "df_estaciones['departamento'] = \\\n",
    "    df_estaciones['departamento'].apply(replace_accented_chars)\n",
    "df_estaciones['municipio'] = \\\n",
    "    df_estaciones['municipio'].apply(clean_string_values)\n",
    "df_estaciones['municipio'] = \\\n",
    "    df_estaciones['municipio'].apply(replace_accented_chars)"
   ]
  },
  {
   "cell_type": "markdown",
   "id": "aa0f2fc0",
   "metadata": {},
   "source": [
    "#### Corrección de valores string"
   ]
  },
  {
   "cell_type": "code",
   "execution_count": 66,
   "id": "313b0429",
   "metadata": {},
   "outputs": [],
   "source": [
    "df_estaciones['municipio'] = \\\n",
    "    df_estaciones['municipio'].replace('cucuta', 'san_jose_de_cucuta')"
   ]
  },
  {
   "cell_type": "markdown",
   "id": "8c3cd9ae",
   "metadata": {},
   "source": [
    "#### Creación de nuevas columnas"
   ]
  },
  {
   "cell_type": "code",
   "execution_count": 67,
   "id": "1c4f9316",
   "metadata": {},
   "outputs": [],
   "source": [
    "df_estaciones['latitud'] = \\\n",
    "    df_estaciones['ubicacion'].apply(lambda x: (eval(x))[0])\n",
    "df_estaciones['longitud'] = \\\n",
    "    df_estaciones['ubicacion'].apply(lambda x: (eval(x))[1])\n",
    "df_estaciones.drop(columns=['ubicacion'], inplace=True)"
   ]
  },
  {
   "cell_type": "markdown",
   "id": "1ccf2fd9",
   "metadata": {},
   "source": [
    "#### Agrupar registros múltiples para el mismo municipio"
   ]
  },
  {
   "cell_type": "code",
   "execution_count": 68,
   "id": "ee83f7dc",
   "metadata": {},
   "outputs": [],
   "source": [
    "df_estaciones = \\\n",
    "    df_estaciones.groupby(['departamento', 'municipio'])[\n",
    "        ['altitud', 'latitud', 'longitud']].mean().reset_index()"
   ]
  },
  {
   "cell_type": "markdown",
   "id": "804cc15d",
   "metadata": {},
   "source": [
    "#### Completar columnas faltantes"
   ]
  },
  {
   "cell_type": "code",
   "execution_count": 70,
   "id": "5e85290b",
   "metadata": {},
   "outputs": [],
   "source": [
    "try:\n",
    "    DB_CONNECTION, DB_CURSOR = get_db()\n",
    "\n",
    "    query = \"DELETE FROM estaciones;\"\n",
    "    DB_CURSOR.execute(query)\n",
    "\n",
    "    df_estaciones.to_sql(\n",
    "        'estaciones', con=DB_CONNECTION, if_exists='append', index=False)\n",
    "\n",
    "    query = '''\n",
    "        UPDATE estaciones \n",
    "        SET cod_departamento = departamentos.codigo \n",
    "        FROM departamentos\n",
    "        WHERE estaciones.departamento = departamentos.clean '''\n",
    "    DB_CURSOR.execute(query)\n",
    "\n",
    "    query = '''\n",
    "        UPDATE estaciones \n",
    "        SET cod_municipio = municipios.codigo \n",
    "        FROM municipios\n",
    "        WHERE estaciones.municipio = municipios.clean '''\n",
    "    DB_CURSOR.execute(query)\n",
    "\n",
    "    DB_CONNECTION.commit()\n",
    "    DB_CONNECTION.close()\n",
    "except Exception as e:\n",
    "    print(e)\n",
    "    DB_CONNECTION.close()"
   ]
  },
  {
   "cell_type": "code",
   "execution_count": 76,
   "id": "61c88e1d",
   "metadata": {},
   "outputs": [],
   "source": [
    "DB_CONNECTION, DB_CURSOR = get_db()\n",
    "\n",
    "df_estaciones = pd.read_sql_query(\n",
    "    'SELECT * FROM estaciones', con=DB_CONNECTION, index_col='id')\n",
    "\n",
    "DB_CONNECTION.close()"
   ]
  },
  {
   "cell_type": "markdown",
   "id": "804cc15d",
   "metadata": {},
   "source": [
    "### Exportar conjunto de datos"
   ]
  },
  {
   "cell_type": "code",
   "execution_count": null,
   "id": "80bea76b",
   "metadata": {},
   "outputs": [],
   "source": [
    "df_estaciones.to_csv('data/estaciones_preprocesado.csv', index=False)"
   ]
  },
  {
   "cell_type": "markdown",
   "id": "bdb599f8",
   "metadata": {},
   "source": [
    "---\n",
    "Fin del notebook"
   ]
  }
 ],
 "metadata": {
  "kernelspec": {
   "display_name": "Python 3.8.10 64-bit",
   "language": "python",
   "name": "python3"
  },
  "language_info": {
   "codemirror_mode": {
    "name": "ipython",
    "version": 3
   },
   "file_extension": ".py",
   "mimetype": "text/x-python",
   "name": "python",
   "nbconvert_exporter": "python",
   "pygments_lexer": "ipython3",
   "version": "3.8.10"
  },
  "vscode": {
   "interpreter": {
    "hash": "4d190bbdecbc6c6f6743870a5150ac7f1d9df381e01a0ffd3b70e7c4c875f407"
   }
  }
 },
 "nbformat": 4,
 "nbformat_minor": 5
}
