{
 "cells": [
  {
   "cell_type": "markdown",
   "id": "16bc1c76",
   "metadata": {},
   "source": [
    "# Preprocesamiento de los datos - Análisis de suelos\n",
    "## Importaciones"
   ]
  },
  {
   "cell_type": "code",
   "execution_count": 125,
   "id": "3c0e2384",
   "metadata": {},
   "outputs": [],
   "source": [
    "import numpy as np\n",
    "import pandas as pd\n",
    "import matplotlib.pyplot as plt\n",
    "import seaborn as sns"
   ]
  },
  {
   "cell_type": "markdown",
   "id": "84c80e9e",
   "metadata": {},
   "source": [
    "## Carga de los datos"
   ]
  },
  {
   "cell_type": "code",
   "execution_count": 126,
   "id": "a59cef82",
   "metadata": {},
   "outputs": [
    {
     "name": "stderr",
     "output_type": "stream",
     "text": [
      "C:\\Users\\User\\AppData\\Local\\Temp\\ipykernel_22272\\987695195.py:1: DtypeWarning: Columns (14) have mixed types. Specify dtype option on import or set low_memory=False.\n",
      "  df = pd.read_csv('data/suelos_original.csv')\n"
     ]
    }
   ],
   "source": [
    "df = pd.read_csv('data/suelos_original.csv')"
   ]
  },
  {
   "cell_type": "markdown",
   "id": "0c3829ab",
   "metadata": {},
   "source": [
    "## Pre-procesamiento de los datos"
   ]
  },
  {
   "cell_type": "markdown",
   "id": "890d0739",
   "metadata": {},
   "source": [
    "### Renombrar columnas"
   ]
  },
  {
   "cell_type": "code",
   "execution_count": 127,
   "id": "e261c93b",
   "metadata": {},
   "outputs": [],
   "source": [
    "oDict = {\n",
    "    'numfila': 'id',\n",
    "    'Departamento': 'departamento',\n",
    "    'Municipio': 'municipio',\n",
    "    'Cultivo': 'cultivo',\n",
    "    'Estado': 'estado',\n",
    "    'Tiempo Establecimiento': 'tiempo_establecimiento',\n",
    "    'Topografia': 'topografia',\n",
    "    'Drenaje': 'drenaje',\n",
    "    'Riego': 'riego',\n",
    "    'Fertilizantes aplicados': 'fertilizantes',\n",
    "    'FechaAnalisis': 'fecha',\n",
    "    'pH agua:suelo 2,5:1,0': 'ph',\n",
    "    'Materia orgánica (MO) %': 'materia_organica',\n",
    "    'Fósforo (P) Bray II mg/kg': 'fosforo',\n",
    "    'Azufre (S) Fosfato monocalcico mg/kg': 'azufre',\n",
    "    'Acidez (Al+H) KCL cmol(+)/kg': 'acidez',\n",
    "    'Aluminio (Al) intercambiable cmol(+)/kg': 'aluminio',\n",
    "    'Calcio (Ca) intercambiable cmol(+)/kg': 'calcio',\n",
    "    'Magnesio (Mg) intercambiable cmol(+)/kg': 'magnesio',\n",
    "    'Potasio (K) intercambiable cmol(+)/kg': 'potasio',\n",
    "    'Sodio (Na) intercambiable cmol(+)/kg': 'sodio',\n",
    "    'capacidad de intercambio cationico (CICE) suma de bases cmol(+)/kg': 'cice',\n",
    "    'Conductividad el‚ctrica (CE) relacion 2,5:1,0 dS/m': 'ce',\n",
    "    'Hierro (Fe) disponible olsen mg/kg': 'hierro_olsen',\n",
    "    'Cobre (Cu) disponible mg/kg': 'cobre',\n",
    "    'Manganeso (Mn) disponible Olsen mg/kg': 'manganeso',\n",
    "    'Zinc (Zn) disponible Olsen mg/kg': 'zinc_olsen',\n",
    "    'Boro (B) disponible mg/kg': 'boro',\n",
    "    'Hierro (Fe) disponible doble \\xa0cido mg/kg': 'hierro_doble_acido',\n",
    "    'Cobre (Cu) disponible doble acido mg/kg': 'cobre_doble_acido',\n",
    "    'Manganeso (Mn) disponible doble acido mg/kg': 'manganeso_doble_acido',\n",
    "    'Zinc (Zn) disponible doble \\xa0cido mg/kg': 'zinc_doble_acido', \n",
    "    'Secuencial': 'secuencial'\n",
    "}\n",
    "df.rename(columns=oDict, inplace=True)"
   ]
  },
  {
   "cell_type": "markdown",
   "id": "a348601a",
   "metadata": {},
   "source": [
    "### Eliminar columnas sin valores"
   ]
  },
  {
   "cell_type": "code",
   "execution_count": 128,
   "id": "9c8dbb4b",
   "metadata": {},
   "outputs": [],
   "source": [
    "df.drop(columns=['secuencial', 'fecha'], inplace=True)"
   ]
  },
  {
   "cell_type": "markdown",
   "id": "c77255a0",
   "metadata": {},
   "source": [
    "### Formato de valores en columnas"
   ]
  },
  {
   "cell_type": "code",
   "execution_count": 129,
   "id": "f3c98158",
   "metadata": {},
   "outputs": [],
   "source": [
    "# TODO capitalizar departamento y municipio\n",
    "# Cambiar los valores a minúsculas\n",
    "columnas = [\n",
    "    'departamento', 'municipio', 'cultivo', 'estado', 'tiempo_establecimiento', \n",
    "    'topografia', 'drenaje', 'riego', 'fertilizantes'\n",
    "]\n",
    "for columna in columnas:\n",
    "    df[columna] = df[columna].str.lower()"
   ]
  },
  {
   "cell_type": "code",
   "execution_count": 130,
   "id": "8d99a492",
   "metadata": {},
   "outputs": [],
   "source": [
    "# Valores faltantes en columnas float\n",
    "columnas = [\n",
    "    'azufre', 'acidez', 'aluminio', 'potasio', 'sodio', 'ce','hierro_olsen', \n",
    "    'cobre', 'manganeso', 'zinc_olsen', 'boro', 'hierro_doble_acido', \n",
    "    'cobre_doble_acido', 'manganeso_doble_acido', 'zinc_doble_acido'\n",
    "]\n",
    "for columna in columnas:\n",
    "    df[columna] = df[columna].str.replace('ND', 'NaN')"
   ]
  },
  {
   "cell_type": "code",
   "execution_count": 131,
   "id": "6ba07e15",
   "metadata": {},
   "outputs": [
    {
     "name": "stdout",
     "output_type": "stream",
     "text": [
      "could not convert string to float: 'MI'\n",
      "could not convert string to float: 'MI'\n"
     ]
    }
   ],
   "source": [
    "def clean_float_values(value):\n",
    "    '''Limpia valores en columnas float\n",
    "    \n",
    "    Procesa valores string realizando las siguientes acciones:\n",
    "      - Reemplaza ',' por '.'\n",
    "      - Reemplaza '..' por '.'\n",
    "      - Elimina el signo '>' dejando el límite superior como valor actual\n",
    "      - Reemplaza los límites inferiores por la mitad de su valor\n",
    "      - Reemplaza valores inválidos por NaN\n",
    "    '''\n",
    "    if type(value) != str:\n",
    "        return value\n",
    "    \n",
    "    value = value.replace(',', '.')\n",
    "    value = value.replace('..', '.')\n",
    "    value = value.replace('>', '')\n",
    "    \n",
    "    if value[0] == '<':\n",
    "        value = float((value[1:]).strip()) / 2        \n",
    "    else:\n",
    "        try:\n",
    "            float(value)\n",
    "        except Exception as e:\n",
    "            print(str(e));\n",
    "            value = 'NaN'\n",
    "    return value\n",
    "\n",
    "# Limpieza de carácteres no numéricos y conversión de valores numéricos a float\n",
    "columnas = [\n",
    "    'ph', 'fosforo', 'azufre', 'acidez', 'aluminio', \n",
    "    'calcio', 'magnesio', 'potasio', 'sodio', 'ce', 'hierro_olsen', \n",
    "    'cobre', 'manganeso', 'zinc_olsen', 'boro', 'hierro_doble_acido',\n",
    "    'cobre_doble_acido', 'manganeso_doble_acido', 'zinc_doble_acido'\n",
    "]\n",
    "\n",
    "for columna in columnas:\n",
    "    try:\n",
    "        df[columna] = df[columna].apply(clean_float_values)\n",
    "        df[columna] = df[columna].astype(float)\n",
    "    except Exception as e:\n",
    "        print(columna, str(e))"
   ]
  },
  {
   "cell_type": "code",
   "execution_count": 132,
   "id": "c651bb93",
   "metadata": {},
   "outputs": [],
   "source": [
    "df[\"topografia\"] = df[\"topografia\"].str.replace(\"error: #n/a\", \"no indica\")\n",
    "\n",
    "oDict = {\n",
    "    'error: #n/a': \"no indica\",\n",
    "    'buen drenaje': 'bueno',\n",
    "    'regular drenaje': 'regular',\n",
    "    'mal drenaje': 'malo'\n",
    "}\n",
    "df[\"drenaje\"].replace(oDict, inplace=True)"
   ]
  },
  {
   "cell_type": "code",
   "execution_count": 133,
   "id": "8641386b",
   "metadata": {},
   "outputs": [],
   "source": [
    "indices = df[\n",
    "    (df[\"cultivo\"] == \"no indica\") & \n",
    "    (df[\"estado\"] == \"no indica\") & \n",
    "    (df[\"tiempo_establecimiento\"] == \"no indica\")].index\n",
    "df.drop(index=indices, axis=0, inplace=True)"
   ]
  },
  {
   "cell_type": "code",
   "execution_count": 134,
   "id": "6ba07e15",
   "metadata": {},
   "outputs": [],
   "source": [
    "def clean_string_values(value):\n",
    "    '''\n",
    "    '''\n",
    "    # if type(value) != str:\n",
    "    #     return value\n",
    "    \n",
    "    value = value.replace(' ', '_')\n",
    "    return value\n",
    "\n",
    "# Limpieza de espacios en blanco\n",
    "columnas = [\n",
    "    'estado', 'tiempo_establecimiento', 'topografia', 'drenaje', 'riego']\n",
    "\n",
    "for columna in columnas:\n",
    "    try:\n",
    "        df[columna] = df[columna].apply(clean_string_values)\n",
    "    except Exception as e:\n",
    "        print(columna, str(e))"
   ]
  },
  {
   "cell_type": "code",
   "execution_count": 135,
   "id": "5620bac5",
   "metadata": {},
   "outputs": [
    {
     "data": {
      "text/plain": [
       "Index(['id', 'departamento', 'municipio', 'cultivo', 'estado',\n",
       "       'tiempo_establecimiento', 'topografia', 'drenaje', 'riego',\n",
       "       'fertilizantes', 'ph', 'materia_organica', 'fosforo', 'azufre',\n",
       "       'acidez', 'aluminio', 'calcio', 'magnesio', 'potasio', 'sodio', 'cice',\n",
       "       'ce', 'hierro_olsen', 'cobre', 'manganeso', 'zinc_olsen', 'boro',\n",
       "       'hierro_doble_acido', 'cobre_doble_acido', 'manganeso_doble_acido',\n",
       "       'zinc_doble_acido'],\n",
       "      dtype='object')"
      ]
     },
     "execution_count": 135,
     "metadata": {},
     "output_type": "execute_result"
    }
   ],
   "source": [
    "df.columns"
   ]
  },
  {
   "cell_type": "code",
   "execution_count": 136,
   "id": "da5f4ed5",
   "metadata": {},
   "outputs": [],
   "source": [
    "# Crear columnas dummy a partir de la columna topografia\n",
    "columnas = [\n",
    "    'estado', 'tiempo_establecimiento', 'topografia', 'drenaje', 'riego']\n",
    "\n",
    "for columna in columnas:\n",
    "    df = pd.get_dummies(df, columns=[columna])\n",
    "\n",
    "# Ajustar la dummificación de las columnas compuestas\n",
    "columnas = {\n",
    "    'topografia_ondulado_y_pendiente' : ['topografia_ondulado', 'topografia_pendiente'],\n",
    "    'topografia_plano_y_ondulado' : ['topografia_plano', 'topografia_ondulado'],\n",
    "    'topografia_plano_y_pendiente' : ['topografia_plano', 'topografia_pendiente'],\n",
    "    'riego_aspersión_y_goteo': ['riego_aspersión', 'riego_goteo'],\n",
    "    'riego_aspersión_y_gravedad': ['riego_aspersión', 'riego_gravedad'],\n",
    "    'riego_goteo_y_gravedad': ['riego_goteo', 'riego_gravedad'],\n",
    "}\n",
    "for key, value in columnas.items():\n",
    "    indices = df[(df[key] == 1)].index\n",
    "    df.loc[indices, value[0]] = 1\n",
    "    df.loc[indices, value[1]] = 1\n",
    "    df.drop(columns=[key], inplace=True)"
   ]
  },
  {
   "cell_type": "markdown",
   "id": "68ecdab4",
   "metadata": {},
   "source": [
    "## Importar el conjunto de datos de las estaciones metereológicas"
   ]
  },
  {
   "cell_type": "code",
   "execution_count": 137,
   "id": "216d0e68",
   "metadata": {},
   "outputs": [
    {
     "data": {
      "text/html": [
       "<div>\n",
       "<style scoped>\n",
       "    .dataframe tbody tr th:only-of-type {\n",
       "        vertical-align: middle;\n",
       "    }\n",
       "\n",
       "    .dataframe tbody tr th {\n",
       "        vertical-align: top;\n",
       "    }\n",
       "\n",
       "    .dataframe thead th {\n",
       "        text-align: right;\n",
       "    }\n",
       "</style>\n",
       "<table border=\"1\" class=\"dataframe\">\n",
       "  <thead>\n",
       "    <tr style=\"text-align: right;\">\n",
       "      <th></th>\n",
       "      <th>departamento</th>\n",
       "      <th>municipio</th>\n",
       "      <th>ubicacion</th>\n",
       "      <th>altitud</th>\n",
       "    </tr>\n",
       "  </thead>\n",
       "  <tbody>\n",
       "    <tr>\n",
       "      <th>0</th>\n",
       "      <td>nariño</td>\n",
       "      <td>ipiales</td>\n",
       "      <td>(0.81378611, -77.66197778)</td>\n",
       "      <td>2582</td>\n",
       "    </tr>\n",
       "    <tr>\n",
       "      <th>1</th>\n",
       "      <td>nariño</td>\n",
       "      <td>contadero</td>\n",
       "      <td>(0.93030556, -77.49119444)</td>\n",
       "      <td>2450</td>\n",
       "    </tr>\n",
       "    <tr>\n",
       "      <th>2</th>\n",
       "      <td>nariño</td>\n",
       "      <td>túquerres</td>\n",
       "      <td>(1.07061111, -77.63688889)</td>\n",
       "      <td>3120</td>\n",
       "    </tr>\n",
       "    <tr>\n",
       "      <th>3</th>\n",
       "      <td>putumayo</td>\n",
       "      <td>mocoa</td>\n",
       "      <td>(1.08288889, -76.66711111)</td>\n",
       "      <td>760</td>\n",
       "    </tr>\n",
       "    <tr>\n",
       "      <th>4</th>\n",
       "      <td>amazonas</td>\n",
       "      <td>puerto nariño</td>\n",
       "      <td>(-3.78030556, -70.36263889)</td>\n",
       "      <td>158</td>\n",
       "    </tr>\n",
       "  </tbody>\n",
       "</table>\n",
       "</div>"
      ],
      "text/plain": [
       "  departamento      municipio                    ubicacion  altitud\n",
       "0       nariño        ipiales   (0.81378611, -77.66197778)     2582\n",
       "1       nariño      contadero   (0.93030556, -77.49119444)     2450\n",
       "2       nariño      túquerres   (1.07061111, -77.63688889)     3120\n",
       "3     putumayo          mocoa   (1.08288889, -76.66711111)      760\n",
       "4     amazonas  puerto nariño  (-3.78030556, -70.36263889)      158"
      ]
     },
     "execution_count": 137,
     "metadata": {},
     "output_type": "execute_result"
    }
   ],
   "source": [
    "df2 = pd.read_csv('data/estaciones_preprocesado.csv')\n",
    "df2.head()"
   ]
  },
  {
   "cell_type": "code",
   "execution_count": 138,
   "id": "8eb033b6",
   "metadata": {},
   "outputs": [],
   "source": [
    "## Combinar los dos dataframes\n",
    "df_merged=df.merge(df2, how=\"inner\", suffixes=(False, False))\n",
    "df_merged"
   ]
  },
  {
   "cell_type": "markdown",
   "id": "3c466513",
   "metadata": {},
   "source": [
    "## Exportar el conjunto de datos preprocesado"
   ]
  },
  {
   "cell_type": "code",
   "execution_count": 140,
   "id": "7a43f3bc",
   "metadata": {},
   "outputs": [],
   "source": [
    "df.to_csv('data/suelos_preprocesado.csv', index=False)"
   ]
  },
  {
   "cell_type": "markdown",
   "id": "bdb599f8",
   "metadata": {},
   "source": [
    "---\n",
    "Fin del notebook"
   ]
  }
 ],
 "metadata": {
  "kernelspec": {
   "display_name": "Python 3.8.10 64-bit",
   "language": "python",
   "name": "python3"
  },
  "language_info": {
   "codemirror_mode": {
    "name": "ipython",
    "version": 3
   },
   "file_extension": ".py",
   "mimetype": "text/x-python",
   "name": "python",
   "nbconvert_exporter": "python",
   "pygments_lexer": "ipython3",
   "version": "3.8.10"
  },
  "vscode": {
   "interpreter": {
    "hash": "4d190bbdecbc6c6f6743870a5150ac7f1d9df381e01a0ffd3b70e7c4c875f407"
   }
  }
 },
 "nbformat": 4,
 "nbformat_minor": 5
}
